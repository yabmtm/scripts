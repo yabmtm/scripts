{
 "cells": [
  {
   "cell_type": "code",
   "execution_count": 5,
   "metadata": {},
   "outputs": [
    {
     "name": "stdout",
     "output_type": "stream",
     "text": [
      "Current Directory: /media/tug27224/My Passport/analysis\n"
     ]
    }
   ],
   "source": [
    "from __future__ import print_function\n",
    "import glob, itertools, os, subprocess, re\n",
    "import sys, time, tqdm, itertools, socket\n",
    "import mdtraj as md\n",
    "import msmbuilder.utils\n",
    "import numpy as np\n",
    "import itertools\n",
    "from itertools import groupby, count\n",
    "import matplotlib\n",
    "%matplotlib inline\n",
    "# Script: matplotlib.use('Agg')  | Notebook: %matplotlib inline\n",
    "from matplotlib import cm\n",
    "from matplotlib import pyplot as plt\n",
    "from matplotlib.lines import Line2D\n",
    "from msmbuilder.cluster import KCenters, KMeans, KMedoids\n",
    "from msmbuilder.decomposition import tICA\n",
    "from msmbuilder.featurizer import AtomPairsFeaturizer\n",
    "from msmbuilder.msm import ContinuousTimeMSM, implied_timescales, MarkovStateModel\n",
    "from operator import itemgetter\n",
    "from sklearn.externals import joblib\n",
    "from sklearn.pipeline import Pipeline\n",
    "#from pymbar import MBAR\n",
    "from pyemma.thermo import mbar\n",
    "\n",
    "'''This script has lots of functionality and is based on analyzing Gromacs trajectories. A list of trajectory\n",
    "   files is given as trajectory_files, as well as a general structure file. Other structure files should contain\n",
    "   the same name as the corresponding trajectory file, e.g. traj_001.trr traj_001.gro.\n",
    "'''\n",
    "\n",
    "# this project represents a spiroligomer (1) from https://doi.org/10.1371/journal.pone.0045948\n",
    "# bound to MDM2 (PDB: 1ycr)\n",
    "# these runs represent the 20 ensembles: lam = false, d = {0.1, 2.0, 0.1}\n",
    "\n",
    "# featurization parameters\n",
    "project_title = 'PROJ14101' # creates sub-directory\n",
    "structure_file = '%s/xtc.gro'%project_title\n",
    "runs = len(glob.glob('%s/traj_data/RUN*'%project_title))\n",
    "clones = max([len(glob.glob('%s/traj_data/RUN%d/*'%(project_title,x))) for x in range(runs)])\n",
    "md_time_step = 0.02 # time in ns that trajectory files are saved (nstxtcout)\n",
    "equil_time = 1. # time in ns to remove from beginning of each clone\n",
    "subsampled_time_step = 0.5 # preferred subsampled time-step in ns\n",
    "stride = int(subsampled_time_step / md_time_step) # time step stride for sub-sampling\n",
    "equil_steps = int(equil_time / md_time_step) # time steps to be removed from start\n",
    "custom_residues = ['B1A','B1B','B2A','B2B','B2C','B2D','B2E','B3A','B3B']\n",
    "custom_residues += ['B4A','B4B','B4C','B4D','B5A','B5B','B5C','B6A'] # for spiroligomers\n",
    "custom_residues += ['1MQ','20Q','20U','I18','I31','K23','NUT','YIN'] # for nutlins\n",
    "\n",
    "# tICA/MSM parameters\n",
    "tica_lagtime = 10 # determine from implied timescales / GMRQ\n",
    "n_components = 8 # how many tICs to compute\n",
    "n_clusters = 100 # denotes number of microstates\n",
    "n_timescales = n_components # plot all eigenvalues --> timescales\n",
    "lagtimes = np.array([1,2,4,8,16,32,64,128,256,512,1024]) # log scale\n",
    "cluster_method = 'kcenters' # 'kcenters/kmeans/kmedoids'\n",
    "all_ticas = list(itertools.permutations(range(1,n_components+1), 2)) # all combinations\n",
    "all_ticas = [[1,2]] # override: just show analysis for first two components\n",
    "cluster_percentage_cutoff = n_clusters/64 # clusters with a relative population less than this\n",
    "                              # number will not be labeled on plot i.e. 0 : all clusters labeled\n",
    "    \n",
    "# MBAR/TRAM parameters\n",
    "K = runs # sets n_ensembles = n_runs\n",
    "L = K # secondary ensemble count for MBAR\n",
    "kspring_k = [200.0] * K # spring constant for each ensemble in kJ/mol/nm^2\n",
    "equilibrium_distances = [0.1+0.1*k for k in range(K)]\n",
    "protein_anchor = 555\n",
    "restrained_distance_indices = [[[555,'COM']]]*K # which distances are restrained for each\n",
    "restrained_distance_labels = ['d555-ligand_COM']*K # restraint labels for plots\n",
    "temperature = 300.0 # in K\n",
    "T_k = np.ones(K,float)*temperature # This simulation uses only 300K sampling\n",
    "kB = 1.381e-23 * 6.022e23 / 1000.0 # Boltzmann constant in kJ/mol/K\n",
    "beta = 1.0 / (kB * temperature) # inverse temperature of simulations (in 1/(kJ/mol))\n",
    "\n",
    "print('Current Directory: %s'%os.getcwd())"
   ]
  },
  {
   "cell_type": "code",
   "execution_count": 26,
   "metadata": {},
   "outputs": [],
   "source": [
    "def compute_distances():\n",
    "    \n",
    "    \"\"\"Calculate pair-wise distance features and save as .npy files.\n",
    "       Index selection is done within the function.\n",
    "       Feature labels are returned to match tICA components back to the features that make them up.\n",
    "    \"\"\"\n",
    "    \n",
    "    print(\"\\nCalculating distances...\")\n",
    "    \n",
    "    if not os.path.exists(project_title + '/features'):\n",
    "        os.mkdir(project_title + '/features')\n",
    "    \n",
    "    verbose = False\n",
    "    protein_residues = range(50,64) # residue indices for MDM2 binding helix\n",
    "    trajectory_files = []\n",
    "    skipped = 0\n",
    "    \n",
    "    for run in range(runs):\n",
    "        trajectory_files += sorted(glob.glob('%s/traj_data/RUN%d/*xtc'%(project_title,run)))\n",
    "\n",
    "    for i in tqdm.tqdm_notebook(range(len(trajectory_files))): # For each trajectory file\n",
    "        traj = md.load(trajectory_files[i], top=structure_file)\n",
    "        if verbose:\n",
    "            print(\"Loaded \" + trajectory_files[i] + \" with top: \" + structure_file)\n",
    "\n",
    "        # custom residue definition\n",
    "        custom_residues = ['1MQ','20Q','20U','I18','I31','NUT','YIN','K23']\n",
    "        custom_residues += ['B1A','B1B','B2A','B2B','B2C','B2D','B2E','B3A','B3B']\n",
    "        custom_residues += ['B4A','B4B','B4C','B4D','B5A','B5B','B5C','B6A']\n",
    "\n",
    "        # index selection\n",
    "        protein_indices = [ a.index for a in traj.topology.atoms if a.name in ['CA'] and a.residue.index in protein_residues and a.residue.name not in custom_residues]\n",
    "        ligand_indices = [ a.index for a in traj.topology.atoms if a.element.symbol == 'C' and a.residue.name in custom_residues]\n",
    "\n",
    "        # transform indices into distances and save\n",
    "        pairs = list(itertools.product(protein_indices[::2], ligand_indices[::3]))\n",
    "        \n",
    "        # ensure that number of features is greater than the length of the strided\n",
    "        # trajectory, so the autocorrelation matrix is guaranteed to be positive definite.\n",
    "        if len(pairs) > len(traj[equil_steps:][::stride]):\n",
    "            if verbose:\n",
    "                print(\"Number of features (%d) exceeds strided trajectory length (%d). Skipping.\\n\" %(len(pairs),len(traj)/stride))\n",
    "            skipped += 1\n",
    "            continue\n",
    "        \n",
    "        # these are returned and are useful for mapping tICA components back to the \n",
    "        # atoms and residues that correspond to each feature.\n",
    "        feature_labels = [[[str(traj.topology.atom(j[0]).residue.index) +\n",
    "                            traj.topology.atom(j[0]).residue.name,traj.topology.atom(j[0]).name],\n",
    "                          [str(traj.topology.atom(j[1]).residue.index) + \n",
    "                           traj.topology.atom(j[1]).residue.name,traj.topology.atom(j[1]).name]] for j in pairs]\n",
    "        \n",
    "        features = AtomPairsFeaturizer(pairs)\n",
    "        transformed_data = features.fit_transform(traj[equil_steps:][::stride])\n",
    "        \n",
    "        for j in range(len(transformed_data)):\n",
    "            transformed_data[j] = transformed_data[j][0]\n",
    "        \n",
    "        if verbose:\n",
    "            print(\"Saved %d pair-wise distance features over %d frames.\\n\" %(len(pairs),len(transformed_data)))\n",
    "        feature_file = re.sub('.xtc','',re.sub('traj_data/RUN.*/','features/',trajectory_files[i]))\n",
    "        np.save(feature_file, transformed_data)\n",
    "    \n",
    "    print('Skipped %d/%d (%.3f%%) trajectories because number of features exceeded strided frames.'%(skipped,len(trajectory_files),float(100*skipped/len(trajectory_files))))\n",
    "    print('If this number seems too high, decrease number of features or decrease stride.')\n",
    "    return feature_labels"
   ]
  },
  {
   "cell_type": "code",
   "execution_count": 16,
   "metadata": {},
   "outputs": [],
   "source": [
    "def compute_tica_components():\n",
    "          \n",
    "    '''Load in the features, calculate a given number of tICA components (tica_components) given a\n",
    "       lagtime (lag_time), and save tICA coordinates and eigenvector data. It then creates and populates\n",
    "       a list for each desired component, clusters the data, saving normalized populations as populations.dat\n",
    "       and saving each cluster center as a .pdb. tICA plots are created and saved, and implied timescales are\n",
    "       calculated, saved, and plotted.\n",
    "    '''\n",
    "          \n",
    "    print(\"\\nCalculating tICA components...\")\n",
    "    if not os.path.exists(project_title + '/tica'):\n",
    "        os.mkdir(project_title + '/tica')\n",
    "        \n",
    "    verbose = False\n",
    "    save_pdb = True\n",
    "    \n",
    "    # load in feature files\n",
    "    feature_files = []\n",
    "    for i in range(runs):\n",
    "        feature_files += sorted(glob.glob(project_title + '/features/' + \"P*R%d_*npy\"%i))\n",
    "    features = [ np.load(filename) for filename in feature_files]\n",
    "    \n",
    "    # perform tICA calculation and extract score / eigenvectors\n",
    "    tica_coordinates = tICA(lag_time=tica_lagtime,\n",
    "        n_components=int(n_components)).fit_transform(features)\n",
    "    tica_components = tICA(lag_time=tica_lagtime,\n",
    "        n_components=int(n_components)).fit(features)\n",
    "    eigenvectors = np.transpose(tica_components.eigenvectors_)\n",
    "    tica_score = tica_components.score(features)\n",
    "          \n",
    "    np.save(project_title + '/tica/' + 'tica_coords-lag_%d-comp_%d.npy' %(tica_lagtime, n_components), tica_coordinates)\n",
    "    np.save(project_title + '/tica/' + 'tica_comps-lag_%d-comp_%d.npy' %(tica_lagtime, n_components), tica_components)\n",
    "    \n",
    "    # Perform clustering based on the cluster_method parameter.\n",
    "    if cluster_method == 'kcenters':\n",
    "        print('Clustering via KCenters...')\n",
    "        clusters = KCenters(n_clusters)\n",
    "    elif cluster_method == 'kmeans':\n",
    "        print('Clustering via KMeans...')\n",
    "        clusters = KMeans(n_clusters)\n",
    "    elif cluster_method == 'kmedoids':\n",
    "        print('Clustering via KMedoids...')\n",
    "        clusters = KMedoids(n_clusters)\n",
    "    else:\n",
    "        sys.exit('Invalid cluster_method. Use kcenters/kmeans/kmedoids.')\n",
    "        \n",
    "    # Determine cluster assignment for each frame.      \n",
    "    sequences = clusters.fit_transform(tica_coordinates)\n",
    "    np.save(project_title + '/tica/' + 'lag_%d_clusters_%d_assignments.npy' %(tica_lagtime, n_clusters), sequences)\n",
    "    np.save(project_title + '/tica/' + 'lag_%d_clusters_%d_center.npy' %(tica_lagtime, n_clusters),\n",
    "        clusters.cluster_centers_)\n",
    "\n",
    "    # Determine cluster populations, normalize the counts, and save as percentages for\n",
    "    # labeling if a cluster contains more than cluster_percentage_cutoff percent of the data.\n",
    "    # Finally, save normalized counts.\n",
    "    \n",
    "    print(\"\\nDetermining cluster populations...\")\n",
    "    if not os.path.exists(project_title + '/tica/%s_clusters'%cluster_method):\n",
    "        os.mkdir(project_title + '/tica/%s_clusters'%cluster_method)\n",
    "    if not os.path.exists(project_title + '/tica/plots'):\n",
    "        os.mkd'PROJ14103','PROJ14104','PROJ14105',ir(project_title + '/tica/plots')\n",
    "        \n",
    "    counts = np.array([len(np.where(np.concatenate(sequences)==i)[0]) for i in range(n_clusters)])\n",
    "    normalized_counts =  counts/float(counts.sum())\n",
    "    percentages = [ i*100 for i in normalized_counts ]\n",
    "    population_labels = [ [i,\"%.2f\"%percentages[i]] for i in range(len(percentages)) if percentages[i] > cluster_percentage_cutoff ]\n",
    "    np.savetxt(project_title + '/tica/%s_clusters/populations.dat'%cluster_method, normalized_counts)\n",
    "\n",
    "    # Plot all unique combinations of tICA components\n",
    "    print(\"\\nPlotting tICA components...\")\n",
    "    tica_coordinates = np.concatenate(tica_coordinates)\n",
    "    for j in tqdm.tqdm(range(len(all_ticas)),leave=False): # For each pair\n",
    "        if all_ticas[j][0] < all_ticas[j][1]:\n",
    "            plt.figure(j, figsize=(20,16))\n",
    "            tICx, tICy = all_ticas[j][0]-1, all_ticas[j][1]-1\n",
    "            plt.hexbin(tica_coordinates[:,tICx],tica_coordinates[:,tICy], bins='log')\n",
    "            x_centers = [clusters.cluster_centers_[i][tICx] for i in range(len(clusters.cluster_centers_))]\n",
    "            y_centers = [clusters.cluster_centers_[i][tICy] for i in range(len(clusters.cluster_centers_))]\n",
    "            high_pop_x_centers = [ x_centers[i] for i in range(len(x_centers)) if percentages[i] > cluster_percentage_cutoff ]\n",
    "            high_pop_y_centers = [ y_centers[i] for i in range(len(y_centers)) if percentages[i] > cluster_percentage_cutoff ]\n",
    "            plt.plot(x_centers, y_centers, color='y', linestyle=\"\", marker=\"o\")\n",
    "            plt.plot(tica_coordinates[:,tICx][0],tica_coordinates[:,tICy][0], color='k', marker='*',markersize=24)\n",
    "            plt.xlabel('tic'+str(all_ticas[j][0]))\n",
    "            plt.ylabel('tic'+str(all_ticas[j][1]))\n",
    "            plt.title(project_title)\n",
    "            # Add labels for high-population cluster centers\n",
    "            for label, x, y in zip(population_labels, high_pop_x_centers, high_pop_y_centers):\n",
    "                plt.annotate(\n",
    "                  label,\n",
    "                  xy = (x, y), xytext = (-15, 15),\n",
    "                  textcoords = 'offset points', ha = 'right', va = 'bottom',\n",
    "                  bbox = dict(boxstyle = 'round,pad=0.5', fc = 'yellow', alpha = 0.5),\n",
    "                  arrowprops = dict(arrowstyle = '->', connectionstyle = 'arc3,rad=0'))\n",
    "            plt.savefig(project_title + '/tica/plots/' + 'tica_'+str(all_ticas[j][0])+'_'+str(all_ticas[j][1])+'.png')\n",
    "            plt.close()\n",
    "\n",
    "\n",
    "    # Calculate and save cluster entropy\n",
    "    print('\\nDetermining cluster entropy...')\n",
    "    cluster_entropy = (-kB*temperature*normalized_counts*np.log(normalized_counts)).sum()\n",
    "    print(cluster_entropy)\n",
    "    # np.savetxt(project_title + '/' + 'cluster_entropy.dat', cluster_entropy)\n",
    "\n",
    "          \n",
    "    # Write out PDBs for each cluster center\n",
    "    print(\"Performing cluster analytics and saving center PDBs...\\n\")\n",
    "    if save_pdb:\n",
    "        trajectory_files = []\n",
    "        for run in range(runs): # get only xtc files that correlate to npy files\n",
    "            trajectory_files += [re.sub('features',\n",
    "                                    'traj_data/RUN%d'%run,re.sub('npy','xtc',x)\n",
    "                                     ) for x in sorted(glob.glob('%s/features/*R%d_*npy'%(project_title,run)))] \n",
    "\n",
    "        for i in tqdm.tqdm_notebook(range(len(features)),leave=False):\n",
    "            n_snapshots = len(clusters.distances_[i])\n",
    "\n",
    "            # Determine frames that are cluster centers\n",
    "            cluster_indices = np.arange(n_snapshots)[ (clusters.distances_[i] < 1e-6) ]\n",
    "            # Determine number of each cluster, correlates to populations.dat\n",
    "            cluster_labels = sequences[i][cluster_indices]\n",
    "\n",
    "            # Save each cluster center as a pdb\n",
    "            if list(cluster_indices): # load center-containing xtcs to check length\n",
    "                xtc_len = len(md.load(trajectory_files[i],top=structure_file))\n",
    "\n",
    "            for j in range(len(cluster_indices)):\n",
    "                frames = range(xtc_len) # map the strided frame number back to xtc frame number\n",
    "                strided_frames = frames[equil_steps:][::stride]\n",
    "                xtc_frame = frames.index(strided_frames[cluster_indices[j]])\n",
    "                cluster_traj = md.load_frame(trajectory_files[i], xtc_frame, top=structure_file)\n",
    "                cluster_traj.save_pdb(project_title + '/tica/%s_clusters/state_%d_%.3f.pdb'%(cluster_method,\n",
    "                                    cluster_labels[j],percentages[cluster_labels[j]]))\n",
    "                if verbose:\n",
    "                    print('Successfully saved PDB for cluster: %d, (rel.pop: %.3f)'%(cluster_labels[j],percentages[cluster_labels[j]]))\n",
    "                    print('traj_file: %s (%d/%d)'%(trajectory_files[i],i,len(features)))\n",
    "                    print('frame: %d (%d/%d centers from this trajectory)'%(cluster_indices[j],j,len(cluster_indices)))\n",
    "                    print('strided: npy_frame/npy_len = %d/%d = %f'%(cluster_indices[j],n_snapshots,cluster_indices[j]/n_snapshots))\n",
    "                    print('re-mapped: orig_frame/xtc_len = %d/%d = %f\\n'%(xtc_frame,xtc_len,xtc_frame/xtc_len))\n",
    "    return tica_score"
   ]
  },
  {
   "cell_type": "code",
   "execution_count": 17,
   "metadata": {},
   "outputs": [],
   "source": [
    "def compute_msm():\n",
    "    \n",
    "    # are ITS lagtimes in timesteps?\n",
    "    # ITS not working\n",
    "    \n",
    "    verbose = False\n",
    "    \n",
    "    assignments = np.load(project_title + '/tica/lag_%d_clusters_%d_assignments.npy'%(tica_lagtime,n_clusters))\n",
    "    msm = MarkovStateModel(n_timescales=n_components, lag_time=tica_lagtime, reversible_type='transpose',\n",
    "                           verbose=False, sliding_window=True, ergodic_cutoff='on')\n",
    "    msm.fit(assignments)\n",
    "    msm_score = msm.score(assignments)\n",
    "    \n",
    "    # Calculate and save Implied Timescales\n",
    "    if verbose:\n",
    "        print(\"\\nCalculating Implied Timescales...\")\n",
    "    #timescales = implied_timescales(assignments, lagtimes, n_timescales=n_components, msm=msm)\n",
    "    #timescales_file = project_title + '/tica/lag_%d_clusters_%d_timescales.npy' %(tica_lagtime, n_clusters)\n",
    "    #np.savetxt(project_title + '/tica/lagtimes.txt', lagtimes)\n",
    "    #np.save(numpy_timescale_data, timescales)\n",
    "\n",
    "    # Plot Implied Timescales per lagtime\n",
    "    #if verbose:\n",
    "    #    print(\"\\nPlotting Implied Timescales...\")\n",
    "    #for i in tqdm.tqdm(range(n_timescales),leave=False):\n",
    "    #    plt.figure()\n",
    "    #    plt.plot(lagtimes * md_time_step, timescales[:, i] * time_step, 'o-')\n",
    "    #    plt.yscale('log')\n",
    "    #    plt.xlabel('lagtime (ns/timestep?)') # Is this scale always true?\n",
    "    #    plt.ylabel('Implied timescales (ns/timestep?)') # This one?\n",
    "    #    plt.title(project_title + ' Implied timescales')\n",
    "    #    plt.savefig(project_title + '/' + 'lag_%d_clusters_%d_.png' %(tica_lagtime, n_clusters))\n",
    "    \n",
    "    return msm_score"
   ]
  },
  {
   "cell_type": "code",
   "execution_count": 18,
   "metadata": {},
   "outputs": [],
   "source": [
    "def compute_center_of_mass(traj, atom_indices=None):\n",
    "    \n",
    "    \"\"\"\n",
    "    Compute the center of mass for each frame.\n",
    "    Parameters:\n",
    "    ----------\n",
    "    traj : Trajectory\n",
    "        Trajectory to compute center of mass for\n",
    "    atom_indices : list of int\n",
    "        Atoms to compute center of mass for. If None,\n",
    "        will compute over all atoms\n",
    "    Returns\n",
    "    -------\n",
    "    com : np.ndarray, shape=(n_frames, 3)\n",
    "         Coordinates of the center of mass for each frame\n",
    "    \"\"\"\n",
    "\n",
    "    if atom_indices is None:\n",
    "        atoms = traj.top.atoms\n",
    "        coords = traj.xyz\n",
    "    else:\n",
    "        atoms = [traj.top.atom(i) for i in atom_indices]\n",
    "        coords = np.take(traj.xyz, atom_indices, axis=1)\n",
    "\n",
    "    com = np.zeros((traj.n_frames, 3))\n",
    "    masses = np.array([a.element.mass for a in traj.top.atoms])\n",
    "    masses = np.array([a.element.mass for a in atoms])\n",
    "    masses /= masses.sum()\n",
    "\n",
    "    #for i, x in enumerate(traj.xyz):\n",
    "    for i, x in enumerate(coords):\n",
    "        com[i, :] = x.astype('float64').T.dot(masses)\n",
    "    return com"
   ]
  },
  {
   "cell_type": "code",
   "execution_count": 19,
   "metadata": {},
   "outputs": [],
   "source": [
    "def compute_restraint_distances():\n",
    "    \n",
    "    \"\"\"Computes un-(strided/equilibrated) umbrella restraint distances and \n",
    "       saves a numpy.savetxt(shape=(num_conf_states(frames),3)) \n",
    "       for each run, saving clone and timestep and distance for each frame.\"\"\"\n",
    "    \n",
    "    print('\\nComputing restraint distances...')\n",
    "    distances_path = project_title + '/umbrella_distances'\n",
    "    if not os.path.exists(distances_path):\n",
    "        os.mkdir(distances_path)\n",
    "\n",
    "    for k in tqdm.tqdm_notebook(range(K)):\n",
    "        f = open('%s/run_%d_dists.dat'%(distances_path,k),'w')\n",
    "        f.write('#clone\\ttime(ns)\\t%s\\n'%restrained_distance_labels[k])\n",
    "\n",
    "        traj_files = [re.sub('npy','xtc',re.sub('features','traj_data/RUN%d'%k,x)) for x in sorted(glob.glob(\n",
    "            '%s/features/P*R%d_*npy'%(project_title,k)))]\n",
    "        reordered_clones = [re.sub('.*C','',re.sub('.xtc','',x)) for x in traj_files]\n",
    "                                              \n",
    "        for j in range(len(traj_files)):\n",
    "            traj = md.load(traj_files[j], top=structure_file)\n",
    "            ligand_indices = [a.index for a in traj.topology.atoms if a.residue.name in custom_residues]\n",
    "            ligand_COM = compute_center_of_mass(traj,ligand_indices)\n",
    "            protein_xyz = np.take(traj.xyz, [protein_anchor], axis=1)\n",
    "\n",
    "            for k in range(len(traj)):\n",
    "                    distance_between_groups = np.sqrt(\n",
    "                        (ligand_COM[k][0] - protein_xyz[k][0][0])**2 +\n",
    "                        (ligand_COM[k][1] - protein_xyz[k][0][1])**2 +\n",
    "                        (ligand_COM[k][2] - protein_xyz[k][0][2])**2)\n",
    "\n",
    "                    f.write('%s\\t%f\\t%f\\n'%(reordered_clones[j],0.1+ 0.1*k,distance_between_groups))\n",
    "        f.close()"
   ]
  },
  {
   "cell_type": "code",
   "execution_count": 20,
   "metadata": {},
   "outputs": [],
   "source": [
    "def compute_dtraj():\n",
    "    \n",
    "    \"\"\"Computes dtraj object for use in TRAM. Returns and saves a \n",
    "       numpy.ndarray(shape=(num_therm_states(runs), num_conf_states(frames)))\n",
    "       that contains the cluster assignment index for each frame of trajectory data.\"\"\"\n",
    "    \n",
    "    print(\"\\nComputing and saving dtraj object...\")\n",
    "    if not os.path.exists(project_title + '/tram'):\n",
    "        os.mkdir(project_title + '/tram')\n",
    "\n",
    "    dtraj = []\n",
    "    # populate dtram object with assignments saved during tICA computation.\n",
    "    # the input for tICA was already trimmed for equilibration and strided\n",
    "    # so we need not do that here.\n",
    "    #assignments_file = glob.glob(project_title + '/tica/' + '*_sequences.npy')[0]\n",
    "    n_clusters = 5000\n",
    "    assignments_file = project_title + '/tica/lag_%d_clusters_%d_assignments.npy'%(tica_lagtime,n_clusters)\n",
    "    assignments = np.load(assignments_file, allow_pickle=True)\n",
    "    \n",
    "    for i in assignments:\n",
    "        dtraj.append(i)\n",
    "        \n",
    "    np.save(project_title + '/tram/dtraj.npy',dtraj)\n",
    "    return dtraj\n",
    "\n",
    "\n",
    "def compute_btraj():\n",
    "    \n",
    "    \"\"\"Computes the biased energies for each ensemble in every other ensemble. Returns\n",
    "       a and saves a numpy.ndarray(shape=(num_therm_states(runs),num_uncorr_samples(sum_frames)))\"\"\"\n",
    "    \n",
    "    print('\\nComputing and saving btraj object...')\n",
    "    if not os.path.exists(project_title + '/tram'):\n",
    "        os.mkdir(project_title + '/tram')\n",
    "\n",
    "    btraj = []\n",
    "    infiles = ['%s/umbrella_distances/run_%d_dists.dat'%(project_title,x) for x in range(K)]\n",
    "    distances = [np.loadtxt(x)[equil_steps:][::stride] for x in infiles]\n",
    "\n",
    "    for k in tqdm.tqdm_notebook(range(K)):\n",
    "        reordered_clones = [int(re.sub('.*C','',re.sub('.npy','',x))) for x in sorted(\n",
    "            glob.glob(project_title + '/features/P*R%s_*'%k))]\n",
    "\n",
    "        for clone in reordered_clones:\n",
    "            frame_reduced_potentials = []\n",
    "            clone_distances = np.asarray([distances[k][x][2] for x in range(len(distances[k])) if distances[k][x][0] == clone])\n",
    "\n",
    "            for l in range(L):\n",
    "                reduced_potential_for_k = beta*(kspring_k[k]/2.0)*(clone_distances - equilibrium_distances[k])**2\n",
    "                reduced_potential_for_l = beta*(kspring_k[l]/2.0)*(clone_distances - equilibrium_distances[l])**2\n",
    "                reduced_potential_for_k_at_l = reduced_potential_for_l - reduced_potential_for_k\n",
    "                frame_reduced_potentials.append(reduced_potential_for_k_at_l)\n",
    "            btraj.append(np.transpose(frame_reduced_potentials))\n",
    "            \n",
    "    np.save(project_title + '/tram/btraj.npy', btraj)\n",
    "    return btraj\n",
    "\n",
    "\n",
    "def compute_ttraj():\n",
    "    \n",
    "    \"\"\"Computes the index of the thermodynamic state (ensemble) for each trajectory frame.\n",
    "       In FAH cases, this is usually just the run. Returns and saves a\n",
    "       numpy.ndarray(shape=(N_traj,num_uncorr_samples(sum_frames/traj)))\"\"\"\n",
    "\n",
    "    print('\\nComputing and saving ttraj object...')\n",
    "    if not os.path.exists(project_title + '/tram'):\n",
    "        os.mkdir(project_title + '/tram')\n",
    "    ttraj = []\n",
    "    \n",
    "    for i in range(runs):\n",
    "        feature_files = sorted(glob.glob(project_title + '/features/' + \"P*R%d_*.npy\"%i))\n",
    "        features = [ np.load(filename) for filename in feature_files]\n",
    "        for j in range(len(features)):\n",
    "            ttraj.append(np.asarray([i]*features[j].shape[0]))\n",
    "        \n",
    "    np.save(project_title + '/tram/ttraj.npy',ttraj)\n",
    "    \n",
    "    return ttraj\n",
    "        \n",
    "        "
   ]
  },
  {
   "cell_type": "code",
   "execution_count": 21,
   "metadata": {},
   "outputs": [],
   "source": [
    "def compute_ukn():\n",
    "    \n",
    "    \"\"\"Computes the biased energies for each ensemble in every other ensemble. Returns\n",
    "       a and saves a numpy.ndarray(shape=(num_therm_states(runs),num_uncorr_samples(sum_frames)))\"\"\"\n",
    "    \n",
    "    print('\\nComputing and saving u_kn object...')\n",
    "    if not os.path.exists(project_title + '/mbar'):\n",
    "        os.mkdir(project_title + '/mbar')\n",
    "    \n",
    "    no_equilibrium_samples = True\n",
    "    \n",
    "    u_kn = []\n",
    "    infiles = ['%s/umbrella_distances/run_%d_dists.dat'%(project_title,x) for x in range(K)]\n",
    "    distances = [np.loadtxt(x)[equil_steps:][::stride] for x in infiles]\n",
    "    N_k = [x.shape[0] for x in distances]\n",
    "    \n",
    "    for k in tqdm.tqdm_notebook(range(K)):\n",
    "        u_kn.append([])\n",
    "        \n",
    "        for l in range(L):\n",
    "            if k == l:\n",
    "                for m in range(len(distances[k])):\n",
    "                    u_kn[k].append(0)\n",
    "\n",
    "            else:\n",
    "                reduced_potential_for_k = beta*(kspring_k[k]/2.0)*(distances[l][:,2] - equilibrium_distances[k])**2\n",
    "                reduced_potential_for_l = beta*(kspring_k[l]/2.0)*(distances[l][:,2] - equilibrium_distances[l])**2\n",
    "                reduced_potential_for_k_at_l = reduced_potential_for_l - reduced_potential_for_k\n",
    "                \n",
    "                for m in reduced_potential_for_k_at_l:\n",
    "                    u_kn[k].append(m)\n",
    "    \n",
    "    if no_equilibrium_samples:\n",
    "        N_k.append(0)\n",
    "        u_kn.append([0]*np.sum(N_k))\n",
    "    \n",
    "    u_kn = np.asarray(u_kn)\n",
    "    np.save(project_title + '/mbar/u_kn.npy', u_kn)\n",
    "    return u_kn, N_k\n",
    "\n"
   ]
  },
  {
   "cell_type": "code",
   "execution_count": null,
   "metadata": {},
   "outputs": [
    {
     "name": "stdout",
     "output_type": "stream",
     "text": [
      "\n",
      "Calculating distances...\n"
     ]
    },
    {
     "data": {
      "application/vnd.jupyter.widget-view+json": {
       "model_id": "ce153fcc93d246fa9e8f9c390a634c77",
       "version_major": 2,
       "version_minor": 0
      },
      "text/plain": [
       "HBox(children=(IntProgress(value=0, max=999), HTML(value='')))"
      ]
     },
     "metadata": {},
     "output_type": "display_data"
    },
    {
     "name": "stdout",
     "output_type": "stream",
     "text": [
      "Skipped 3/999 (0.300%) trajectories because number of features exceeded strided frames.\n",
      "If this number seems too high, decrease number of features or decrease stride.\n",
      "\n",
      "Calculating tICA components...\n",
      "Clustering via KCenters...\n"
     ]
    },
    {
     "name": "stderr",
     "output_type": "stream",
     "text": [
      "\r",
      "  0%|          | 0/1 [00:00<?, ?it/s]"
     ]
    },
    {
     "name": "stdout",
     "output_type": "stream",
     "text": [
      "\n",
      "Determining cluster populations...\n",
      "\n",
      "Plotting tICA components...\n"
     ]
    },
    {
     "name": "stderr",
     "output_type": "stream",
     "text": [
      "\r",
      "100%|██████████| 1/1 [00:00<00:00,  1.10it/s]"
     ]
    },
    {
     "name": "stdout",
     "output_type": "stream",
     "text": [
      "\n",
      "Determining cluster entropy...\n",
      "7.90258763973\n",
      "Performing cluster analytics and saving center PDBs...\n",
      "\n"
     ]
    },
    {
     "name": "stderr",
     "output_type": "stream",
     "text": [
      "\n"
     ]
    },
    {
     "data": {
      "application/vnd.jupyter.widget-view+json": {
       "model_id": "ced4fa942ec343389a033eabc4a2addd",
       "version_major": 2,
       "version_minor": 0
      },
      "text/plain": [
       "HBox(children=(IntProgress(value=0, max=996), HTML(value='')))"
      ]
     },
     "metadata": {},
     "output_type": "display_data"
    },
    {
     "name": "stdout",
     "output_type": "stream",
     "text": [
      "\n",
      "Computing restraint distances...\n"
     ]
    },
    {
     "data": {
      "application/vnd.jupyter.widget-view+json": {
       "model_id": "10306885e0aa4cb9998380815dd125e5",
       "version_major": 2,
       "version_minor": 0
      },
      "text/plain": [
       "HBox(children=(IntProgress(value=0, max=20), HTML(value='')))"
      ]
     },
     "metadata": {},
     "output_type": "display_data"
    }
   ],
   "source": [
    "for project_title in ['PROJ14106']:\n",
    "    structure_file = '%s/xtc.gro'%project_title\n",
    "    labels = compute_distances()\n",
    "    score = compute_tica_components()\n",
    "    compute_restraint_distances()\n",
    "sys.exit()\n",
    "## TRAM/PyEMMA Calculations\n",
    "\n",
    "### DTRAJ needs to be a list of... lists? np.arrays?\n",
    "\n",
    "dtraj = compute_dtraj()\n",
    "#dtraj = np.load(project_title + '/tram/dtraj.npy')\n",
    "print('np.shape(dtraj): ',np.shape(dtraj))\n",
    "print('np.shape(dtraj[0]): ',np.shape(dtraj[0]))\n",
    "print('dtraj[0]: ',dtraj[0])\n",
    "print('dtraj[0][0]: ',dtraj[0][0])\n",
    "print('type(dtraj)',type(dtraj))\n",
    "print('type(dtraj[0]',type(dtraj[0]))\n",
    "print('type(dtraj[0][0]',type(dtraj[0][0]))\n",
    "\n",
    "### TTRAJ needs to be a list of... lists? np.arrays?\n",
    "\n",
    "ttraj = compute_ttraj()\n",
    "#ttraj = np.load(project_title + '/tram/ttraj.npy')\n",
    "print('\\nnp.shape(ttraj): ',np.shape(ttraj))\n",
    "print('np.shape(ttraj)[0]: ',np.shape(ttraj[0]))\n",
    "print('ttraj[0]: ',ttraj[0])\n",
    "print('ttraj[0][0]: ',ttraj[0][0])\n",
    "print('type(ttraj)',type(ttraj))\n",
    "print('type(ttraj[0]',type(ttraj[0]))\n",
    "print('type(ttraj[0][0]',type(ttraj[0][0]))\n",
    "\n",
    "### BTRAJ needs to be a np.array ###\n",
    "\n",
    "btraj = compute_btraj()\n",
    "#btraj = [x for x in np.load(project_title + '/tram/btraj.npy')]\n",
    "print('\\nnp.shape(btraj): ',np.shape(btraj))\n",
    "print('np.shape(btraj)[0]: ',np.shape(btraj[0]))\n",
    "print('btraj[0][0]: ',btraj[0][0])\n",
    "print('type(btraj)',type(btraj))\n",
    "print('type(btraj[0]',type(btraj[0]))\n",
    "print('type(btraj[0][0]',type(btraj[0][0]))\n",
    "print('type(btraj[0][0][0])',type(btraj[0][0][0]))\n",
    "\n",
    "\n",
    "# this needs to be fixed... why are some sequences one longer to begin with?\n",
    "for i in range(len(btraj)):\n",
    "    if np.shape(dtraj[i])[0] != np.shape(btraj[i])[0]:\n",
    "        btraj[i] = np.asarray(np.ndarray.tolist(btraj[i])[0:-1])\n",
    "\n",
    "\n",
    "from pyemma.thermo import mbar\n",
    "try:\n",
    "    start = time.time()\n",
    "    dt_traj = '%d ps'%(md_time_step*stride*1000)\n",
    "    mbar_obj = mbar(ttraj, dtraj, btraj, dt_traj=dt_traj)\n",
    "    end = time.time()\n",
    "    duration = end - start\n",
    "    print('MBAR took :', duration)\n",
    "    np.save('stationary_distribution.npy', mbar_obj.stationary_distribution)\n",
    "    np.save('active_set.npy', mbar_obj.active_set)\n",
    "    np.save('free_energies.npy', mbar_obj.free_energies)\n",
    "except Exception as e:\n",
    "    print(e)\n",
    "    \n",
    "from pyemma.thermo import tram\n",
    "tram_obj = tram(ttraj, dtraj, btraj, lag=10, dt_traj=dt_traj)"
   ]
  },
  {
   "cell_type": "code",
   "execution_count": 22,
   "metadata": {},
   "outputs": [
    {
     "data": {
      "application/vnd.jupyter.widget-view+json": {
       "model_id": "b29cea186d6547dcbe4b4e567966ec4f",
       "version_major": 2,
       "version_minor": 0
      },
      "text/plain": [
       "HBox(children=(IntProgress(value=0, max=3), HTML(value='')))"
      ]
     },
     "metadata": {},
     "output_type": "display_data"
    },
    {
     "data": {
      "application/vnd.jupyter.widget-view+json": {
       "model_id": "",
       "version_major": 2,
       "version_minor": 0
      },
      "text/plain": [
       "HBox(children=(IntProgress(value=0, max=3), HTML(value='')))"
      ]
     },
     "metadata": {},
     "output_type": "display_data"
    },
    {
     "name": "stdout",
     "output_type": "stream",
     "text": [
      "\n",
      "Calculating tICA components...\n"
     ]
    },
    {
     "name": "stderr",
     "output_type": "stream",
     "text": [
      "\r",
      "  0%|          | 0/1 [00:00<?, ?it/s]"
     ]
    },
    {
     "name": "stdout",
     "output_type": "stream",
     "text": [
      "Clustering via KCenters...\n",
      "\n",
      "Determining cluster populations...\n",
      "\n",
      "Plotting tICA components...\n"
     ]
    },
    {
     "name": "stderr",
     "output_type": "stream",
     "text": [
      "100%|██████████| 1/1 [00:00<00:00,  1.84it/s]\n"
     ]
    },
    {
     "name": "stdout",
     "output_type": "stream",
     "text": [
      "\n",
      "Determining cluster entropy...\n",
      "0.499073420834\n",
      "Performing cluster analytics and saving center PDBs...\n",
      "\n",
      "\n",
      "Calculating tICA components...\n"
     ]
    },
    {
     "name": "stderr",
     "output_type": "stream",
     "text": [
      "\r",
      "  0%|          | 0/1 [00:00<?, ?it/s]"
     ]
    },
    {
     "name": "stdout",
     "output_type": "stream",
     "text": [
      "Clustering via KCenters...\n",
      "\n",
      "Determining cluster populations...\n",
      "\n",
      "Plotting tICA components...\n"
     ]
    },
    {
     "name": "stderr",
     "output_type": "stream",
     "text": [
      "100%|██████████| 1/1 [00:00<00:00,  1.95it/s]\n"
     ]
    },
    {
     "name": "stdout",
     "output_type": "stream",
     "text": [
      "\n",
      "Determining cluster entropy...\n",
      "0.885767162741\n",
      "Performing cluster analytics and saving center PDBs...\n",
      "\n",
      "\n",
      "Calculating tICA components...\n"
     ]
    },
    {
     "name": "stderr",
     "output_type": "stream",
     "text": [
      "\r",
      "  0%|          | 0/1 [00:00<?, ?it/s]"
     ]
    },
    {
     "name": "stdout",
     "output_type": "stream",
     "text": [
      "Clustering via KCenters...\n",
      "\n",
      "Determining cluster populations...\n",
      "\n",
      "Plotting tICA components...\n"
     ]
    },
    {
     "name": "stderr",
     "output_type": "stream",
     "text": [
      "\r",
      "100%|██████████| 1/1 [00:00<00:00,  1.83it/s]"
     ]
    },
    {
     "name": "stdout",
     "output_type": "stream",
     "text": [
      "\n",
      "Determining cluster entropy...\n",
      "1.02795828878\n",
      "Performing cluster analytics and saving center PDBs...\n",
      "\n"
     ]
    },
    {
     "name": "stderr",
     "output_type": "stream",
     "text": [
      "\n"
     ]
    },
    {
     "data": {
      "application/vnd.jupyter.widget-view+json": {
       "model_id": "",
       "version_major": 2,
       "version_minor": 0
      },
      "text/plain": [
       "HBox(children=(IntProgress(value=0, max=3), HTML(value='')))"
      ]
     },
     "metadata": {},
     "output_type": "display_data"
    },
    {
     "name": "stdout",
     "output_type": "stream",
     "text": [
      "\n",
      "Calculating tICA components...\n"
     ]
    },
    {
     "name": "stderr",
     "output_type": "stream",
     "text": [
      "\r",
      "  0%|          | 0/1 [00:00<?, ?it/s]"
     ]
    },
    {
     "name": "stdout",
     "output_type": "stream",
     "text": [
      "Clustering via KCenters...\n",
      "\n",
      "Determining cluster populations...\n",
      "\n",
      "Plotting tICA components...\n"
     ]
    },
    {
     "name": "stderr",
     "output_type": "stream",
     "text": [
      "100%|██████████| 1/1 [00:00<00:00,  1.88it/s]\n"
     ]
    },
    {
     "name": "stdout",
     "output_type": "stream",
     "text": [
      "\n",
      "Determining cluster entropy...\n",
      "3.47714721965\n",
      "Performing cluster analytics and saving center PDBs...\n",
      "\n",
      "\n",
      "Calculating tICA components...\n"
     ]
    },
    {
     "name": "stderr",
     "output_type": "stream",
     "text": [
      "\r",
      "  0%|          | 0/1 [00:00<?, ?it/s]"
     ]
    },
    {
     "name": "stdout",
     "output_type": "stream",
     "text": [
      "Clustering via KCenters...\n",
      "\n",
      "Determining cluster populations...\n",
      "\n",
      "Plotting tICA components...\n"
     ]
    },
    {
     "name": "stderr",
     "output_type": "stream",
     "text": [
      "100%|██████████| 1/1 [00:00<00:00,  1.82it/s]\n"
     ]
    },
    {
     "name": "stdout",
     "output_type": "stream",
     "text": [
      "\n",
      "Determining cluster entropy...\n",
      "4.23875250845\n",
      "Performing cluster analytics and saving center PDBs...\n",
      "\n",
      "\n",
      "Calculating tICA components...\n"
     ]
    },
    {
     "name": "stderr",
     "output_type": "stream",
     "text": [
      "\r",
      "  0%|          | 0/1 [00:00<?, ?it/s]"
     ]
    },
    {
     "name": "stdout",
     "output_type": "stream",
     "text": [
      "Clustering via KCenters...\n",
      "\n",
      "Determining cluster populations...\n",
      "\n",
      "Plotting tICA components...\n"
     ]
    },
    {
     "name": "stderr",
     "output_type": "stream",
     "text": [
      "\r",
      "100%|██████████| 1/1 [00:00<00:00,  1.84it/s]"
     ]
    },
    {
     "name": "stdout",
     "output_type": "stream",
     "text": [
      "\n",
      "Determining cluster entropy...\n",
      "1.69063449293\n",
      "Performing cluster analytics and saving center PDBs...\n",
      "\n"
     ]
    },
    {
     "name": "stderr",
     "output_type": "stream",
     "text": [
      "\n"
     ]
    },
    {
     "data": {
      "application/vnd.jupyter.widget-view+json": {
       "model_id": "",
       "version_major": 2,
       "version_minor": 0
      },
      "text/plain": [
       "HBox(children=(IntProgress(value=0, max=3), HTML(value='')))"
      ]
     },
     "metadata": {},
     "output_type": "display_data"
    },
    {
     "name": "stdout",
     "output_type": "stream",
     "text": [
      "\n",
      "Calculating tICA components...\n"
     ]
    },
    {
     "name": "stderr",
     "output_type": "stream",
     "text": [
      "\r",
      "  0%|          | 0/1 [00:00<?, ?it/s]"
     ]
    },
    {
     "name": "stdout",
     "output_type": "stream",
     "text": [
      "Clustering via KCenters...\n",
      "\n",
      "Determining cluster populations...\n",
      "\n",
      "Plotting tICA components...\n"
     ]
    },
    {
     "name": "stderr",
     "output_type": "stream",
     "text": [
      "100%|██████████| 1/1 [00:00<00:00,  1.57it/s]\n"
     ]
    },
    {
     "name": "stdout",
     "output_type": "stream",
     "text": [
      "\n",
      "Determining cluster entropy...\n",
      "5.7332037945\n",
      "Performing cluster analytics and saving center PDBs...\n",
      "\n",
      "\n",
      "Calculating tICA components...\n"
     ]
    },
    {
     "name": "stderr",
     "output_type": "stream",
     "text": [
      "\r",
      "  0%|          | 0/1 [00:00<?, ?it/s]"
     ]
    },
    {
     "name": "stdout",
     "output_type": "stream",
     "text": [
      "Clustering via KCenters...\n",
      "\n",
      "Determining cluster populations...\n",
      "\n",
      "Plotting tICA components...\n"
     ]
    },
    {
     "name": "stderr",
     "output_type": "stream",
     "text": [
      "100%|██████████| 1/1 [00:00<00:00,  1.71it/s]\n"
     ]
    },
    {
     "name": "stdout",
     "output_type": "stream",
     "text": [
      "\n",
      "Determining cluster entropy...\n",
      "5.72829539133\n",
      "Performing cluster analytics and saving center PDBs...\n",
      "\n",
      "\n",
      "Calculating tICA components...\n"
     ]
    },
    {
     "name": "stderr",
     "output_type": "stream",
     "text": [
      "\r",
      "  0%|          | 0/1 [00:00<?, ?it/s]"
     ]
    },
    {
     "name": "stdout",
     "output_type": "stream",
     "text": [
      "Clustering via KCenters...\n",
      "\n",
      "Determining cluster populations...\n",
      "\n",
      "Plotting tICA components...\n"
     ]
    },
    {
     "name": "stderr",
     "output_type": "stream",
     "text": [
      "100%|██████████| 1/1 [00:00<00:00,  1.64it/s]\n",
      "/home/matt/packages/conda/envs/msm/lib/python3.6/site-packages/ipykernel_launcher.py:40: UserWarning: Matplotlib is currently using module://ipykernel.pylab.backend_inline, which is a non-GUI backend, so cannot show the figure.\n"
     ]
    },
    {
     "name": "stdout",
     "output_type": "stream",
     "text": [
      "\n",
      "Determining cluster entropy...\n",
      "6.10286422307\n",
      "Performing cluster analytics and saving center PDBs...\n",
      "\n",
      "\n"
     ]
    },
    {
     "data": {
      "image/png": "[encoded data removed]",
      "text/plain": [
       "<Figure size 432x288 with 2 Axes>"
      ]
     },
     "metadata": {
      "needs_background": "light"
     },
     "output_type": "display_data"
    }
   ],
   "source": [
    "# GMRQ\n",
    "\n",
    "scores = []\n",
    "states = [5,10,25]\n",
    "for i in tqdm.tqdm_notebook(range(len(states))):\n",
    "    for j in tqdm.tqdm_notebook(range(3),leave=False):\n",
    "        scores.append([states[i]])\n",
    "        n_clusters = states[i]\n",
    "        tica_score = compute_tica_components()\n",
    "        msm_score = compute_msm()\n",
    "        scores[-1].append(tica_score)\n",
    "        scores[-1].append(msm_score)\n",
    "       # scores[i].append(ContiniousTimeMSM.score(sequences=sequences))\n",
    "        \n",
    "scores = np.asarray(scores)\n",
    "\n",
    "fig = plt.figure()\n",
    "ax1 = fig.add_subplot(221)\n",
    "tICY=[[scores[x][1] for x in range(len(scores)) if scores[x][0] == states[y]] for y in range(len(states))]\n",
    "#ax1.violinplot(dataset=tICY,positions=states)\n",
    "#ax1.violinplot(X,tICY)\n",
    "ax1.set_xlabel('States')\n",
    "ax1.set_ylabel('Score')\n",
    "ax1.title.set_text('GMRQ tICA Scores')\n",
    "\n",
    "ax2 = fig.add_subplot(222)\n",
    "MSMY=[[scores[x][2] for x in range(len(scores)) if scores[x][0] == states[y]] for y in range(len(states))]\n",
    "ax2.violinplot(dataset=MSMY,positions=states)\n",
    "ax2.set_xlabel('States')\n",
    "ax2.set_ylabel('Score')\n",
    "ax2.title.set_text('GMRQ MSM Scores')\n",
    "\n",
    "#ax3 = fig.add_subplot(223)\n",
    "#ax3.violinplot(X,CTMSMY)\n",
    "#ax3.set_xlabel('States')\n",
    "#ax3.set_ylabel('Score')\n",
    "#ax3.title.set_text('GMRQ CTMSM Scores')\n",
    "\n",
    "fig.tight_layout()\n",
    "fig.show()"
   ]
  },
  {
   "cell_type": "code",
   "execution_count": 30,
   "metadata": {},
   "outputs": [
    {
     "data": {
      "text/plain": [
       "<matplotlib.collections.PathCollection at 0x7fdec83431d0>"
      ]
     },
     "execution_count": 30,
     "metadata": {},
     "output_type": "execute_result"
    },
    {
     "data": {
      "image/png": "[encoded data removed]",
      "text/plain": [
       "<Figure size 432x288 with 1 Axes>"
      ]
     },
     "metadata": {
      "needs_background": "light"
     },
     "output_type": "display_data"
    }
   ],
   "source": [
    "x = [5,5,5,10,10,10,25,25,25,50,50,50,75,75,75,100,100,100,250,250,250,500,500,500,750,750,750,1000,1000,1000,2500,2500,2500,5000,5000,5000,7500,7500,7500,10000,10000,10000]\n",
    "y = [3.439,3.780,3.885,6.478,5.995,6.092,7.167,7.594,7.617,7.985,7.689,7.997,7.951,7.941,8.047,8.072,8.021,8.108,8.241,8.255,8.283,8.431,8.434,8.464,8.464,8.503,8.499,8.544,8.544,8.525,8.689,8.668,8.701,8.733,8.771,8.726,8.813, 8.800, 8.811, 8.842, 8.845, 8.827]\n",
    "plt.scatter(x,y)"
   ]
  },
  {
   "cell_type": "code",
   "execution_count": 62,
   "metadata": {
    "scrolled": false
   },
   "outputs": [
    {
     "name": "stdout",
     "output_type": "stream",
     "text": [
      "K (total states) = 21, total samples = 137604\n",
      "N_k = \n",
      "[6917 6450 7230 7359 7052 7166 7027 6917 6990 6735 6852 6738 6852 6892 6237\n",
      " 7090 6871 7155 6711 6363    0]\n",
      "There are 20 states with samples.\n",
      "Initializing free energies to zero.\n",
      "Initial dimensionless free energies with method zeros\n",
      "f_k = \n",
      "[ 0.  0.  0.  0.  0.  0.  0.  0.  0.  0.  0.  0.  0.  0.  0.  0.  0.  0.\n",
      "  0.  0.  0.]\n",
      "Final dimensionless free energies\n",
      "f_k = \n",
      "[  0.          13.96688891  26.23346079  36.88345144  45.95602291\n",
      "  53.38560619  59.11469852  63.26850613  66.00361937  67.39679509\n",
      "  67.49070557  66.33976738  64.01382604  60.57926592  56.08753269\n",
      "  50.57681633  44.07703701  36.61032038  28.18335286  18.76481094\n",
      "  43.003483  ]\n",
      "MBAR initialization complete.\n"
     ]
    }
   ],
   "source": [
    "u_kn, N_k = compute_ukn()\n",
    "mbar = MBAR(u_kn,N_k,verbose=True)\n",
    "bin_min = 0.0\n",
    "bin_max = 1.0 # these are distances?\n",
    "dx=(bin_max-bin_min)/n_clusters\n",
    "pmf_distances=np.arange(bin_min,bin_max+dx,dx)\n",
    "nbins = len(pmf_distances)\n",
    "########################################################\n",
    "distance = np.load('distance_99_100.npy')\n",
    "dis = []\n",
    "for i in range(len(distance)):\n",
    "    for j in distance[i]:\n",
    "        dis.append(j)\n",
    "dis = np.array(dis)\n",
    "reshape_dis = dis.reshape(1,u_kn.shape[1])\n",
    "K = u_kn.shape[0]\n",
    "nsnaps = distance.shape[-1]\n",
    "N_k = np.array(K*[nsnaps])\n",
    "u_kn -= u_kn.min()\n",
    "bin_kn = np.zeros(reshape_dis.shape,np.int64)\n",
    "G=[]\n",
    "mbar = MBAR(u_kn, N_k, verbose=True)\n",
    "for j in range(2):\n",
    "    print j\n",
    "    (f_i, df_i) = mbar.computePMF(u_kn[j], bin_kn, nbins)\n",
    "    G.append(f_i)\n",
    "    print f_i, df_i\n",
    "    fout = open('mbar_%d_sub.dat'%(j),'w')\n",
    "    fout.write('# distance (nm)\\tf (kT)\\tdf (kT)\\n')\n",
    "    for i in range(nbins):\n",
    "        fout.write(\"%8.4f\\t%8.4f\\t%8.4f\\n\" % (pmf_distances[i], f_i[i], df_i[i]) )\n",
    "    fout.close()\n",
    "    print 'Wrote'\n",
    "np.save('raw_G.npy',G)\n",
    "###############################################"
   ]
  },
  {
   "cell_type": "code",
   "execution_count": 44,
   "metadata": {},
   "outputs": [
    {
     "name": "stdout",
     "output_type": "stream",
     "text": [
      "RUN\tAvgSteps\tEquilSteps\tStatIneff\tnUncSamples\tAutocorrelation\n",
      "0\t3458\t\t2.979\t\t1.054\t\t46\t\t1.049\n",
      "1\t3225\t\t0.340\t\t1.032\t\t49\t\t1.027\n",
      "2\t3615\t\t1.926\t\t1.218\t\t42\t\t1.272\n",
      "3\t3679\t\t2.691\t\t1.051\t\t46\t\t1.016\n",
      "4\t3526\t\t1.213\t\t1.157\t\t45\t\t1.107\n",
      "5\t3583\t\t3.957\t\t1.083\t\t44\t\t1.138\n",
      "6\t3513\t\t2.043\t\t1.089\t\t46\t\t1.161\n",
      "7\t3458\t\t4.309\t\t1.175\t\t41\t\t1.361\n",
      "8\t3495\t\t11.511\t\t1.255\t\t33\t\t1.353\n",
      "9\t3367\t\t4.649\t\t1.282\t\t38\t\t1.206\n",
      "10\t3426\t\t14.489\t\t1.571\t\t25\t\t1.724\n",
      "11\t3369\t\t1.723\t\t1.095\t\t46\t\t1.091\n",
      "12\t3426\t\t2.266\t\t1.162\t\t43\t\t1.056\n",
      "13\t3446\t\t4.170\t\t1.081\t\t44\t\t1.336\n",
      "14\t3118\t\t3.521\t\t1.251\t\t39\t\t1.113\n",
      "15\t3545\t\t7.394\t\t1.446\t\t33\t\t1.731\n",
      "16\t3435\t\t4.723\t\t1.385\t\t37\t\t1.192\n",
      "17\t3577\t\t2.181\t\t1.153\t\t44\t\t1.120\n",
      "18\t3355\t\t3.468\t\t1.319\t\t39\t\t1.283\n",
      "19\t3181\t\t4.085\t\t1.236\t\t40\t\t1.111\n"
     ]
    }
   ],
   "source": [
    "################ subsample / autocorrelation #################\n",
    "\n",
    "from pymbar.timeseries import detectEquilibration\n",
    "from pymbar.timeseries import statisticalInefficiency\n",
    "\n",
    "#%ls tram/umbrella_distances/\n",
    "\n",
    "print('RUN\\tAvgSteps\\tEquilSteps\\tStatIneff\\tnUncSamples\\tAutocorrelation')\n",
    "for k in range(K):\n",
    "    t_k, g_k, Nunc_k, autocorr = [],[],[],[]\n",
    "    k_distances = np.loadtxt('tram/umbrella_distances/run_%d_dists.dat'%k)\n",
    "    for l in range(100):\n",
    "        A_t = np.asarray([x[2] for x in k_distances if x[1] == l])\n",
    "        if A_t.size != 0:\n",
    "            autocorr.append(statisticalInefficiency(A_t,A_t))\n",
    "            indices = detectEquilibration(A_t) # [t, g, Neff_max]\n",
    "            t_k.append(indices[0])\n",
    "            g_k.append(indices[1])\n",
    "            Nunc_k.append(indices[2])\n",
    "    \n",
    "    print('%d\\t%d\\t\\t%.3f\\t\\t%.3f\\t\\t%d\\t\\t%.3f'%(k,len(k_distances)/100,np.mean(t_k),np.mean(g_k),np.mean(Nunc_k),np.mean(autocorr)))\n",
    "                            \n"
   ]
  },
  {
   "cell_type": "code",
   "execution_count": 58,
   "metadata": {},
   "outputs": [],
   "source": [
    "# GMRQ for state decomposition\n",
    "# states excluded because of ergotic trimming (if i > j but j !> i, j gets lumped to i)\n",
    "# d tram can be faster if you calculate free energies first with MBAR and use those as biases\n",
    "# use state index as bin index for pmf, you will have a pmf for each ensemble, the bias is the pmf\n",
    "# pmf === free energies\n",
    "#vpyemma has a built-in function for bias with estimate_umbrella_sampling\n",
    "# don't add extra sample, add extra ensemble with no bias for K=k\n",
    "# for its error bars do split into a few clones at a time (same amounts of data tho)"
   ]
  },
  {
   "cell_type": "code",
   "execution_count": 128,
   "metadata": {},
   "outputs": [
    {
     "name": "stdout",
     "output_type": "stream",
     "text": [
      "unstrided traj frames 7876\n",
      "strided traj frames 157\n",
      "unstrided distances 7876\n",
      "strided distances 157\n",
      "strided npy (157, 84)\n"
     ]
    }
   ],
   "source": [
    "    infile = sorted(glob.glob(project_title + '/traj_data/RUN0/P*R0_C0*'))[0]\n",
    "    traj = md.load(infile,top=structure_file)\n",
    "    print('unstrided traj frames',traj.n_frames)\n",
    "    print('strided traj frames',len(range(traj.n_frames)[equil_steps:][::stride]))\n",
    "    \n",
    "    infile = '%s/umbrella_distances/run_0_dists.dat'%(project_title)\n",
    "    distances = np.loadtxt(infile)\n",
    "    strided_distances = distances[equil_steps:][::stride]\n",
    "    clone0 = [x for x in distances if x[0] == 0]\n",
    "    strided_clone0 = [x for x in strided_distances if x[0] == 0]\n",
    "    print('unstrided distances',len(clone0))\n",
    "    print('strided distances',len(strided_clone0))\n",
    "    \n",
    "    infile = sorted(glob.glob(project_title + '/features/P*R0_C0*'))[0]\n",
    "    distances = np.load(infile)\n",
    "    print('strided npy',np.shape(distances))\n",
    "\n",
    "    "
   ]
  },
  {
   "cell_type": "code",
   "execution_count": 8,
   "metadata": {},
   "outputs": [
    {
     "name": "stdout",
     "output_type": "stream",
     "text": [
      "(1000, 8)\n"
     ]
    },
    {
     "ename": "ValueError",
     "evalue": "too many values to unpack (expected 2)",
     "output_type": "error",
     "traceback": [
      "\u001b[0;31m---------------------------------------------------------------------------\u001b[0m",
      "\u001b[0;31mValueError\u001b[0m                                Traceback (most recent call last)",
      "\u001b[0;32m<ipython-input-8-c46bf62da654>\u001b[0m in \u001b[0;36m<module>\u001b[0;34m\u001b[0m\n\u001b[1;32m     49\u001b[0m         \u001b[0mcategorical\u001b[0m\u001b[0;34m=\u001b[0m\u001b[0;32mTrue\u001b[0m\u001b[0;34m,\u001b[0m\u001b[0;34m\u001b[0m\u001b[0;34m\u001b[0m\u001b[0m\n\u001b[1;32m     50\u001b[0m         \u001b[0mlegend_labels\u001b[0m\u001b[0;34m=\u001b[0m\u001b[0mlegend_labels\u001b[0m\u001b[0;34m,\u001b[0m\u001b[0;34m\u001b[0m\u001b[0;34m\u001b[0m\u001b[0m\n\u001b[0;32m---> 51\u001b[0;31m         \u001b[0mlegend_title\u001b[0m\u001b[0;34m=\u001b[0m\u001b[0;34m\"Cell Types\"\u001b[0m\u001b[0;34m,\u001b[0m\u001b[0;34m\u001b[0m\u001b[0;34m\u001b[0m\u001b[0m\n\u001b[0m\u001b[1;32m     52\u001b[0m     )\n\u001b[1;32m     53\u001b[0m     faerun.add_tree(\n",
      "\u001b[0;32m~/packages/conda/envs/msm/lib/python3.6/site-packages/faerun/faerun.py\u001b[0m in \u001b[0;36madd_scatter\u001b[0;34m(self, name, data, mapping, colormap, shader, point_scale, max_point_size, fog_intensity, saturation_limit, categorical, interactive, has_legend, legend_title, legend_labels, min_legend_label, max_legend_label)\u001b[0m\n\u001b[1;32m    278\u001b[0m                 \u001b[0mcmap\u001b[0m \u001b[0;34m=\u001b[0m \u001b[0mcolormap\u001b[0m\u001b[0;34m\u001b[0m\u001b[0;34m\u001b[0m\u001b[0m\n\u001b[1;32m    279\u001b[0m \u001b[0;34m\u001b[0m\u001b[0m\n\u001b[0;32m--> 280\u001b[0;31m             \u001b[0;32mfor\u001b[0m \u001b[0mvalue\u001b[0m\u001b[0;34m,\u001b[0m \u001b[0mlabel\u001b[0m \u001b[0;32min\u001b[0m \u001b[0mlegend_values\u001b[0m\u001b[0;34m:\u001b[0m\u001b[0;34m\u001b[0m\u001b[0;34m\u001b[0m\u001b[0m\n\u001b[0m\u001b[1;32m    281\u001b[0m                 \u001b[0mlegend\u001b[0m\u001b[0;34m.\u001b[0m\u001b[0mappend\u001b[0m\u001b[0;34m(\u001b[0m\u001b[0;34m(\u001b[0m\u001b[0mcmap\u001b[0m\u001b[0;34m(\u001b[0m\u001b[0mvalue\u001b[0m\u001b[0;34m)\u001b[0m\u001b[0;34m,\u001b[0m \u001b[0mlabel\u001b[0m\u001b[0;34m)\u001b[0m\u001b[0;34m)\u001b[0m\u001b[0;34m\u001b[0m\u001b[0;34m\u001b[0m\u001b[0m\n\u001b[1;32m    282\u001b[0m \u001b[0;34m\u001b[0m\u001b[0m\n",
      "\u001b[0;31mValueError\u001b[0m: too many values to unpack (expected 2)"
     ]
    }
   ],
   "source": [
    "import tmap as tm\n",
    "from faerun import Faerun\n",
    "import numpy as np\n",
    "from annoy import AnnoyIndex\n",
    "from scipy.spatial.distance import cosine as cosine_distance\n",
    "\n",
    "tica_file = project_title + '/tica/' + 'tica_coords-lag_%d-comp_%d.npy' %(tica_lagtime, n_components)\n",
    "tica_coordinates = np.load(tica_file, allow_pickle=True)\n",
    "data = np.concatenate(tica_coordinates, axis=0)[0:1000]\n",
    "\n",
    "print(np.shape(data))\n",
    "d = len(data[0])\n",
    "\n",
    "sources = []\n",
    "for i, e in enumerate(data):\n",
    "    sources.extend([i] * len(e))\n",
    "\n",
    "# Initialize a new Annoy object and index it using 10 trees\n",
    "annoy = AnnoyIndex(d, metric=\"angular\")\n",
    "for i, v in enumerate(data):\n",
    "    annoy.add_item(i, v)\n",
    "annoy.build(8)\n",
    "\n",
    "# Create the k-nearest neighbor graph (k = 10)\n",
    "edge_list = []\n",
    "for i in range(len(data)):\n",
    "    for j in annoy.get_nns_by_item(i, 8):\n",
    "        edge_list.append((i, j, cosine_distance(data[i], data[j])))\n",
    "\n",
    "    # Compute the layout from the edge list\n",
    "    x, y, s, t, _ = tm.layout_from_edge_list(len(data), edge_list)\n",
    "\n",
    "    legend_labels = ['tic%d' for d in range(8)]\n",
    "\n",
    "    # Create the plot\n",
    "    faerun = Faerun(\n",
    "        view=\"front\",\n",
    "        coords=False,\n",
    "        legend_title=\"RNA Flow Cytometry: evaluation of detection sensitivity in low abundant intracellular RNA \",\n",
    "    )\n",
    "    faerun.add_scatter(\n",
    "        \"CYTO\",\n",
    "        {\"x\": x, \"y\": y, \"c\": sources, \"labels\": sources},\n",
    "        point_scale=1.0,\n",
    "        max_point_size=10,\n",
    "        shader=\"smoothCircle\",\n",
    "        colormap=\"Set1\",\n",
    "        has_legend=True,\n",
    "        categorical=True,\n",
    "        legend_labels=legend_labels,\n",
    "        legend_title=\"Cell Types\",\n",
    "    )\n",
    "    faerun.add_tree(\n",
    "        \"CYTO_tree\", {\"from\": s, \"to\": t}, point_helper=\"CYTO\", color=\"#222222\"\n",
    "    )\n",
    "\n",
    "    faerun.plot(\"cyto\")\n"
   ]
  },
  {
   "cell_type": "code",
   "execution_count": 67,
   "metadata": {},
   "outputs": [
    {
     "name": "stdout",
     "output_type": "stream",
     "text": [
      "['PROJ14102/features/P14102_R0_C0.npy', 'PROJ14102/features/P14102_R0_C1.npy', 'PROJ14102/features/P14102_R0_C10.npy', 'PROJ14102/features/P14102_R0_C11.npy', 'PROJ14102/features/P14102_R0_C12.npy', 'PROJ14102/features/P14102_R0_C13.npy', 'PROJ14102/features/P14102_R0_C14.npy', 'PROJ14102/features/P14102_R0_C15.npy', 'PROJ14102/features/P14102_R0_C16.npy', 'PROJ14102/features/P14102_R0_C17.npy', 'PROJ14102/features/P14102_R0_C18.npy', 'PROJ14102/features/P14102_R0_C19.npy', 'PROJ14102/features/P14102_R0_C2.npy', 'PROJ14102/features/P14102_R0_C20.npy', 'PROJ14102/features/P14102_R0_C21.npy', 'PROJ14102/features/P14102_R0_C22.npy', 'PROJ14102/features/P14102_R0_C23.npy', 'PROJ14102/features/P14102_R0_C24.npy', 'PROJ14102/features/P14102_R0_C28.npy', 'PROJ14102/features/P14102_R0_C29.npy', 'PROJ14102/features/P14102_R0_C3.npy', 'PROJ14102/features/P14102_R0_C32.npy', 'PROJ14102/features/P14102_R0_C34.npy', 'PROJ14102/features/P14102_R0_C35.npy', 'PROJ14102/features/P14102_R0_C36.npy', 'PROJ14102/features/P14102_R0_C39.npy', 'PROJ14102/features/P14102_R0_C41.npy', 'PROJ14102/features/P14102_R0_C43.npy', 'PROJ14102/features/P14102_R0_C47.npy', 'PROJ14102/features/P14102_R0_C48.npy', 'PROJ14102/features/P14102_R0_C5.npy', 'PROJ14102/features/P14102_R0_C6.npy', 'PROJ14102/features/P14102_R0_C7.npy', 'PROJ14102/features/P14102_R0_C8.npy', 'PROJ14102/features/P14102_R0_C9.npy', 'PROJ14102/features/P14102_R1_C0.npy', 'PROJ14102/features/P14102_R1_C1.npy', 'PROJ14102/features/P14102_R1_C10.npy', 'PROJ14102/features/P14102_R1_C11.npy', 'PROJ14102/features/P14102_R1_C12.npy', 'PROJ14102/features/P14102_R1_C13.npy', 'PROJ14102/features/P14102_R1_C14.npy', 'PROJ14102/features/P14102_R1_C15.npy', 'PROJ14102/features/P14102_R1_C16.npy', 'PROJ14102/features/P14102_R1_C17.npy', 'PROJ14102/features/P14102_R1_C18.npy', 'PROJ14102/features/P14102_R1_C19.npy', 'PROJ14102/features/P14102_R1_C2.npy', 'PROJ14102/features/P14102_R1_C21.npy', 'PROJ14102/features/P14102_R1_C23.npy', 'PROJ14102/features/P14102_R1_C24.npy', 'PROJ14102/features/P14102_R1_C27.npy', 'PROJ14102/features/P14102_R1_C28.npy', 'PROJ14102/features/P14102_R1_C29.npy', 'PROJ14102/features/P14102_R1_C3.npy', 'PROJ14102/features/P14102_R1_C30.npy', 'PROJ14102/features/P14102_R1_C31.npy', 'PROJ14102/features/P14102_R1_C32.npy', 'PROJ14102/features/P14102_R1_C33.npy', 'PROJ14102/features/P14102_R1_C36.npy', 'PROJ14102/features/P14102_R1_C37.npy', 'PROJ14102/features/P14102_R1_C4.npy', 'PROJ14102/features/P14102_R1_C42.npy', 'PROJ14102/features/P14102_R1_C43.npy', 'PROJ14102/features/P14102_R1_C44.npy', 'PROJ14102/features/P14102_R1_C45.npy', 'PROJ14102/features/P14102_R1_C5.npy', 'PROJ14102/features/P14102_R1_C6.npy', 'PROJ14102/features/P14102_R1_C7.npy', 'PROJ14102/features/P14102_R1_C8.npy', 'PROJ14102/features/P14102_R1_C9.npy', 'PROJ14102/features/P14102_R2_C0.npy', 'PROJ14102/features/P14102_R2_C1.npy', 'PROJ14102/features/P14102_R2_C10.npy', 'PROJ14102/features/P14102_R2_C11.npy', 'PROJ14102/features/P14102_R2_C12.npy', 'PROJ14102/features/P14102_R2_C13.npy', 'PROJ14102/features/P14102_R2_C14.npy', 'PROJ14102/features/P14102_R2_C15.npy', 'PROJ14102/features/P14102_R2_C16.npy', 'PROJ14102/features/P14102_R2_C17.npy', 'PROJ14102/features/P14102_R2_C18.npy', 'PROJ14102/features/P14102_R2_C19.npy', 'PROJ14102/features/P14102_R2_C2.npy', 'PROJ14102/features/P14102_R2_C20.npy', 'PROJ14102/features/P14102_R2_C22.npy', 'PROJ14102/features/P14102_R2_C23.npy', 'PROJ14102/features/P14102_R2_C26.npy', 'PROJ14102/features/P14102_R2_C29.npy', 'PROJ14102/features/P14102_R2_C3.npy', 'PROJ14102/features/P14102_R2_C30.npy', 'PROJ14102/features/P14102_R2_C32.npy', 'PROJ14102/features/P14102_R2_C34.npy', 'PROJ14102/features/P14102_R2_C35.npy', 'PROJ14102/features/P14102_R2_C37.npy', 'PROJ14102/features/P14102_R2_C4.npy', 'PROJ14102/features/P14102_R2_C40.npy', 'PROJ14102/features/P14102_R2_C42.npy', 'PROJ14102/features/P14102_R2_C44.npy', 'PROJ14102/features/P14102_R2_C47.npy', 'PROJ14102/features/P14102_R2_C5.npy', 'PROJ14102/features/P14102_R2_C6.npy', 'PROJ14102/features/P14102_R2_C7.npy', 'PROJ14102/features/P14102_R2_C8.npy', 'PROJ14102/features/P14102_R2_C9.npy', 'PROJ14102/features/P14102_R3_C0.npy', 'PROJ14102/features/P14102_R3_C1.npy', 'PROJ14102/features/P14102_R3_C10.npy', 'PROJ14102/features/P14102_R3_C11.npy', 'PROJ14102/features/P14102_R3_C12.npy', 'PROJ14102/features/P14102_R3_C13.npy', 'PROJ14102/features/P14102_R3_C14.npy', 'PROJ14102/features/P14102_R3_C15.npy', 'PROJ14102/features/P14102_R3_C16.npy', 'PROJ14102/features/P14102_R3_C17.npy', 'PROJ14102/features/P14102_R3_C18.npy', 'PROJ14102/features/P14102_R3_C19.npy', 'PROJ14102/features/P14102_R3_C2.npy', 'PROJ14102/features/P14102_R3_C22.npy', 'PROJ14102/features/P14102_R3_C23.npy', 'PROJ14102/features/P14102_R3_C24.npy', 'PROJ14102/features/P14102_R3_C25.npy', 'PROJ14102/features/P14102_R3_C26.npy', 'PROJ14102/features/P14102_R3_C3.npy', 'PROJ14102/features/P14102_R3_C32.npy', 'PROJ14102/features/P14102_R3_C35.npy', 'PROJ14102/features/P14102_R3_C4.npy', 'PROJ14102/features/P14102_R3_C42.npy', 'PROJ14102/features/P14102_R3_C43.npy', 'PROJ14102/features/P14102_R3_C44.npy', 'PROJ14102/features/P14102_R3_C46.npy', 'PROJ14102/features/P14102_R3_C49.npy', 'PROJ14102/features/P14102_R3_C5.npy', 'PROJ14102/features/P14102_R3_C7.npy', 'PROJ14102/features/P14102_R3_C8.npy', 'PROJ14102/features/P14102_R3_C9.npy', 'PROJ14102/features/P14102_R4_C0.npy', 'PROJ14102/features/P14102_R4_C1.npy', 'PROJ14102/features/P14102_R4_C10.npy', 'PROJ14102/features/P14102_R4_C11.npy', 'PROJ14102/features/P14102_R4_C12.npy', 'PROJ14102/features/P14102_R4_C13.npy', 'PROJ14102/features/P14102_R4_C14.npy', 'PROJ14102/features/P14102_R4_C16.npy', 'PROJ14102/features/P14102_R4_C17.npy', 'PROJ14102/features/P14102_R4_C18.npy', 'PROJ14102/features/P14102_R4_C19.npy', 'PROJ14102/features/P14102_R4_C2.npy', 'PROJ14102/features/P14102_R4_C20.npy', 'PROJ14102/features/P14102_R4_C21.npy', 'PROJ14102/features/P14102_R4_C22.npy', 'PROJ14102/features/P14102_R4_C26.npy', 'PROJ14102/features/P14102_R4_C27.npy', 'PROJ14102/features/P14102_R4_C29.npy', 'PROJ14102/features/P14102_R4_C3.npy', 'PROJ14102/features/P14102_R4_C32.npy', 'PROJ14102/features/P14102_R4_C37.npy', 'PROJ14102/features/P14102_R4_C39.npy', 'PROJ14102/features/P14102_R4_C4.npy', 'PROJ14102/features/P14102_R4_C41.npy', 'PROJ14102/features/P14102_R4_C42.npy', 'PROJ14102/features/P14102_R4_C43.npy', 'PROJ14102/features/P14102_R4_C47.npy', 'PROJ14102/features/P14102_R4_C49.npy', 'PROJ14102/features/P14102_R4_C5.npy', 'PROJ14102/features/P14102_R4_C6.npy', 'PROJ14102/features/P14102_R4_C7.npy', 'PROJ14102/features/P14102_R4_C8.npy', 'PROJ14102/features/P14102_R4_C9.npy', 'PROJ14102/features/P14102_R5_C0.npy', 'PROJ14102/features/P14102_R5_C1.npy', 'PROJ14102/features/P14102_R5_C10.npy', 'PROJ14102/features/P14102_R5_C11.npy', 'PROJ14102/features/P14102_R5_C12.npy', 'PROJ14102/features/P14102_R5_C14.npy', 'PROJ14102/features/P14102_R5_C15.npy', 'PROJ14102/features/P14102_R5_C16.npy', 'PROJ14102/features/P14102_R5_C17.npy', 'PROJ14102/features/P14102_R5_C18.npy', 'PROJ14102/features/P14102_R5_C19.npy', 'PROJ14102/features/P14102_R5_C2.npy', 'PROJ14102/features/P14102_R5_C20.npy', 'PROJ14102/features/P14102_R5_C21.npy', 'PROJ14102/features/P14102_R5_C23.npy', 'PROJ14102/features/P14102_R5_C29.npy', 'PROJ14102/features/P14102_R5_C3.npy', 'PROJ14102/features/P14102_R5_C30.npy', 'PROJ14102/features/P14102_R5_C31.npy', 'PROJ14102/features/P14102_R5_C32.npy', 'PROJ14102/features/P14102_R5_C33.npy', 'PROJ14102/features/P14102_R5_C34.npy', 'PROJ14102/features/P14102_R5_C36.npy', 'PROJ14102/features/P14102_R5_C37.npy', 'PROJ14102/features/P14102_R5_C39.npy', 'PROJ14102/features/P14102_R5_C4.npy', 'PROJ14102/features/P14102_R5_C43.npy', 'PROJ14102/features/P14102_R5_C47.npy', 'PROJ14102/features/P14102_R5_C5.npy', 'PROJ14102/features/P14102_R5_C6.npy', 'PROJ14102/features/P14102_R5_C7.npy', 'PROJ14102/features/P14102_R5_C8.npy', 'PROJ14102/features/P14102_R5_C9.npy', 'PROJ14102/features/P14102_R6_C0.npy', 'PROJ14102/features/P14102_R6_C1.npy', 'PROJ14102/features/P14102_R6_C10.npy', 'PROJ14102/features/P14102_R6_C11.npy', 'PROJ14102/features/P14102_R6_C12.npy', 'PROJ14102/features/P14102_R6_C13.npy', 'PROJ14102/features/P14102_R6_C14.npy', 'PROJ14102/features/P14102_R6_C15.npy', 'PROJ14102/features/P14102_R6_C17.npy', 'PROJ14102/features/P14102_R6_C18.npy', 'PROJ14102/features/P14102_R6_C19.npy', 'PROJ14102/features/P14102_R6_C2.npy', 'PROJ14102/features/P14102_R6_C20.npy', 'PROJ14102/features/P14102_R6_C21.npy', 'PROJ14102/features/P14102_R6_C22.npy', 'PROJ14102/features/P14102_R6_C24.npy', 'PROJ14102/features/P14102_R6_C26.npy', 'PROJ14102/features/P14102_R6_C27.npy', 'PROJ14102/features/P14102_R6_C29.npy', 'PROJ14102/features/P14102_R6_C3.npy', 'PROJ14102/features/P14102_R6_C32.npy', 'PROJ14102/features/P14102_R6_C38.npy', 'PROJ14102/features/P14102_R6_C39.npy', 'PROJ14102/features/P14102_R6_C4.npy', 'PROJ14102/features/P14102_R6_C40.npy', 'PROJ14102/features/P14102_R6_C41.npy', 'PROJ14102/features/P14102_R6_C43.npy', 'PROJ14102/features/P14102_R6_C44.npy', 'PROJ14102/features/P14102_R6_C46.npy', 'PROJ14102/features/P14102_R6_C47.npy', 'PROJ14102/features/P14102_R6_C48.npy', 'PROJ14102/features/P14102_R6_C5.npy', 'PROJ14102/features/P14102_R6_C6.npy', 'PROJ14102/features/P14102_R6_C7.npy', 'PROJ14102/features/P14102_R6_C8.npy', 'PROJ14102/features/P14102_R6_C9.npy', 'PROJ14102/features/P14102_R7_C0.npy', 'PROJ14102/features/P14102_R7_C1.npy', 'PROJ14102/features/P14102_R7_C10.npy', 'PROJ14102/features/P14102_R7_C11.npy', 'PROJ14102/features/P14102_R7_C12.npy', 'PROJ14102/features/P14102_R7_C13.npy', 'PROJ14102/features/P14102_R7_C14.npy', 'PROJ14102/features/P14102_R7_C15.npy', 'PROJ14102/features/P14102_R7_C16.npy', 'PROJ14102/features/P14102_R7_C17.npy', 'PROJ14102/features/P14102_R7_C18.npy', 'PROJ14102/features/P14102_R7_C19.npy', 'PROJ14102/features/P14102_R7_C2.npy', 'PROJ14102/features/P14102_R7_C20.npy', 'PROJ14102/features/P14102_R7_C22.npy', 'PROJ14102/features/P14102_R7_C25.npy', 'PROJ14102/features/P14102_R7_C26.npy', 'PROJ14102/features/P14102_R7_C28.npy', 'PROJ14102/features/P14102_R7_C29.npy', 'PROJ14102/features/P14102_R7_C3.npy', 'PROJ14102/features/P14102_R7_C30.npy', 'PROJ14102/features/P14102_R7_C31.npy', 'PROJ14102/features/P14102_R7_C32.npy', 'PROJ14102/features/P14102_R7_C34.npy', 'PROJ14102/features/P14102_R7_C35.npy', 'PROJ14102/features/P14102_R7_C36.npy', 'PROJ14102/features/P14102_R7_C37.npy', 'PROJ14102/features/P14102_R7_C38.npy', 'PROJ14102/features/P14102_R7_C4.npy', 'PROJ14102/features/P14102_R7_C40.npy', 'PROJ14102/features/P14102_R7_C42.npy', 'PROJ14102/features/P14102_R7_C43.npy', 'PROJ14102/features/P14102_R7_C5.npy', 'PROJ14102/features/P14102_R7_C6.npy', 'PROJ14102/features/P14102_R7_C7.npy', 'PROJ14102/features/P14102_R7_C8.npy', 'PROJ14102/features/P14102_R8_C0.npy', 'PROJ14102/features/P14102_R8_C1.npy', 'PROJ14102/features/P14102_R8_C10.npy', 'PROJ14102/features/P14102_R8_C11.npy', 'PROJ14102/features/P14102_R8_C12.npy', 'PROJ14102/features/P14102_R8_C13.npy', 'PROJ14102/features/P14102_R8_C15.npy', 'PROJ14102/features/P14102_R8_C16.npy', 'PROJ14102/features/P14102_R8_C17.npy', 'PROJ14102/features/P14102_R8_C18.npy', 'PROJ14102/features/P14102_R8_C19.npy', 'PROJ14102/features/P14102_R8_C2.npy', 'PROJ14102/features/P14102_R8_C22.npy', 'PROJ14102/features/P14102_R8_C25.npy', 'PROJ14102/features/P14102_R8_C26.npy', 'PROJ14102/features/P14102_R8_C28.npy', 'PROJ14102/features/P14102_R8_C3.npy', 'PROJ14102/features/P14102_R8_C30.npy', 'PROJ14102/features/P14102_R8_C31.npy', 'PROJ14102/features/P14102_R8_C32.npy', 'PROJ14102/features/P14102_R8_C35.npy', 'PROJ14102/features/P14102_R8_C38.npy', 'PROJ14102/features/P14102_R8_C4.npy', 'PROJ14102/features/P14102_R8_C40.npy', 'PROJ14102/features/P14102_R8_C45.npy', 'PROJ14102/features/P14102_R8_C46.npy', 'PROJ14102/features/P14102_R8_C47.npy', 'PROJ14102/features/P14102_R8_C48.npy', 'PROJ14102/features/P14102_R8_C5.npy', 'PROJ14102/features/P14102_R8_C6.npy', 'PROJ14102/features/P14102_R8_C7.npy', 'PROJ14102/features/P14102_R8_C8.npy', 'PROJ14102/features/P14102_R8_C9.npy', 'PROJ14102/features/P14102_R9_C0.npy', 'PROJ14102/features/P14102_R9_C1.npy', 'PROJ14102/features/P14102_R9_C10.npy', 'PROJ14102/features/P14102_R9_C11.npy', 'PROJ14102/features/P14102_R9_C12.npy', 'PROJ14102/features/P14102_R9_C13.npy', 'PROJ14102/features/P14102_R9_C14.npy', 'PROJ14102/features/P14102_R9_C15.npy', 'PROJ14102/features/P14102_R9_C16.npy', 'PROJ14102/features/P14102_R9_C18.npy', 'PROJ14102/features/P14102_R9_C19.npy', 'PROJ14102/features/P14102_R9_C2.npy', 'PROJ14102/features/P14102_R9_C20.npy', 'PROJ14102/features/P14102_R9_C21.npy', 'PROJ14102/features/P14102_R9_C22.npy', 'PROJ14102/features/P14102_R9_C23.npy', 'PROJ14102/features/P14102_R9_C24.npy', 'PROJ14102/features/P14102_R9_C25.npy', 'PROJ14102/features/P14102_R9_C26.npy', 'PROJ14102/features/P14102_R9_C28.npy', 'PROJ14102/features/P14102_R9_C3.npy', 'PROJ14102/features/P14102_R9_C31.npy', 'PROJ14102/features/P14102_R9_C32.npy', 'PROJ14102/features/P14102_R9_C33.npy', 'PROJ14102/features/P14102_R9_C38.npy', 'PROJ14102/features/P14102_R9_C4.npy', 'PROJ14102/features/P14102_R9_C45.npy', 'PROJ14102/features/P14102_R9_C48.npy', 'PROJ14102/features/P14102_R9_C5.npy', 'PROJ14102/features/P14102_R9_C6.npy', 'PROJ14102/features/P14102_R9_C7.npy', 'PROJ14102/features/P14102_R9_C9.npy', 'PROJ14102/features/P14102_R10_C0.npy', 'PROJ14102/features/P14102_R10_C1.npy', 'PROJ14102/features/P14102_R10_C10.npy', 'PROJ14102/features/P14102_R10_C11.npy', 'PROJ14102/features/P14102_R10_C12.npy', 'PROJ14102/features/P14102_R10_C13.npy', 'PROJ14102/features/P14102_R10_C14.npy', 'PROJ14102/features/P14102_R10_C15.npy', 'PROJ14102/features/P14102_R10_C16.npy', 'PROJ14102/features/P14102_R10_C17.npy', 'PROJ14102/features/P14102_R10_C18.npy', 'PROJ14102/features/P14102_R10_C19.npy', 'PROJ14102/features/P14102_R10_C2.npy', 'PROJ14102/features/P14102_R10_C21.npy', 'PROJ14102/features/P14102_R10_C23.npy', 'PROJ14102/features/P14102_R10_C24.npy', 'PROJ14102/features/P14102_R10_C26.npy', 'PROJ14102/features/P14102_R10_C27.npy', 'PROJ14102/features/P14102_R10_C28.npy', 'PROJ14102/features/P14102_R10_C29.npy', 'PROJ14102/features/P14102_R10_C3.npy', 'PROJ14102/features/P14102_R10_C31.npy', 'PROJ14102/features/P14102_R10_C32.npy', 'PROJ14102/features/P14102_R10_C33.npy', 'PROJ14102/features/P14102_R10_C34.npy', 'PROJ14102/features/P14102_R10_C35.npy', 'PROJ14102/features/P14102_R10_C37.npy', 'PROJ14102/features/P14102_R10_C39.npy', 'PROJ14102/features/P14102_R10_C41.npy', 'PROJ14102/features/P14102_R10_C43.npy', 'PROJ14102/features/P14102_R10_C44.npy', 'PROJ14102/features/P14102_R10_C47.npy', 'PROJ14102/features/P14102_R10_C49.npy', 'PROJ14102/features/P14102_R10_C6.npy', 'PROJ14102/features/P14102_R10_C7.npy', 'PROJ14102/features/P14102_R11_C0.npy', 'PROJ14102/features/P14102_R11_C1.npy', 'PROJ14102/features/P14102_R11_C10.npy', 'PROJ14102/features/P14102_R11_C11.npy', 'PROJ14102/features/P14102_R11_C12.npy', 'PROJ14102/features/P14102_R11_C13.npy', 'PROJ14102/features/P14102_R11_C14.npy', 'PROJ14102/features/P14102_R11_C15.npy', 'PROJ14102/features/P14102_R11_C16.npy', 'PROJ14102/features/P14102_R11_C17.npy', 'PROJ14102/features/P14102_R11_C18.npy', 'PROJ14102/features/P14102_R11_C2.npy', 'PROJ14102/features/P14102_R11_C20.npy', 'PROJ14102/features/P14102_R11_C21.npy', 'PROJ14102/features/P14102_R11_C22.npy', 'PROJ14102/features/P14102_R11_C27.npy', 'PROJ14102/features/P14102_R11_C28.npy', 'PROJ14102/features/P14102_R11_C29.npy', 'PROJ14102/features/P14102_R11_C3.npy', 'PROJ14102/features/P14102_R11_C30.npy', 'PROJ14102/features/P14102_R11_C31.npy', 'PROJ14102/features/P14102_R11_C33.npy', 'PROJ14102/features/P14102_R11_C34.npy', 'PROJ14102/features/P14102_R11_C38.npy', 'PROJ14102/features/P14102_R11_C39.npy', 'PROJ14102/features/P14102_R11_C40.npy', 'PROJ14102/features/P14102_R11_C42.npy', 'PROJ14102/features/P14102_R11_C43.npy', 'PROJ14102/features/P14102_R11_C44.npy', 'PROJ14102/features/P14102_R11_C45.npy', 'PROJ14102/features/P14102_R11_C46.npy', 'PROJ14102/features/P14102_R11_C47.npy', 'PROJ14102/features/P14102_R11_C48.npy', 'PROJ14102/features/P14102_R11_C5.npy', 'PROJ14102/features/P14102_R11_C6.npy', 'PROJ14102/features/P14102_R11_C7.npy', 'PROJ14102/features/P14102_R11_C9.npy', 'PROJ14102/features/P14102_R12_C0.npy', 'PROJ14102/features/P14102_R12_C1.npy', 'PROJ14102/features/P14102_R12_C10.npy', 'PROJ14102/features/P14102_R12_C11.npy', 'PROJ14102/features/P14102_R12_C12.npy', 'PROJ14102/features/P14102_R12_C13.npy', 'PROJ14102/features/P14102_R12_C14.npy', 'PROJ14102/features/P14102_R12_C15.npy', 'PROJ14102/features/P14102_R12_C16.npy', 'PROJ14102/features/P14102_R12_C17.npy', 'PROJ14102/features/P14102_R12_C18.npy', 'PROJ14102/features/P14102_R12_C2.npy', 'PROJ14102/features/P14102_R12_C20.npy', 'PROJ14102/features/P14102_R12_C21.npy', 'PROJ14102/features/P14102_R12_C22.npy', 'PROJ14102/features/P14102_R12_C23.npy', 'PROJ14102/features/P14102_R12_C24.npy', 'PROJ14102/features/P14102_R12_C25.npy', 'PROJ14102/features/P14102_R12_C27.npy', 'PROJ14102/features/P14102_R12_C29.npy', 'PROJ14102/features/P14102_R12_C3.npy', 'PROJ14102/features/P14102_R12_C33.npy', 'PROJ14102/features/P14102_R12_C36.npy', 'PROJ14102/features/P14102_R12_C37.npy', 'PROJ14102/features/P14102_R12_C38.npy', 'PROJ14102/features/P14102_R12_C4.npy', 'PROJ14102/features/P14102_R12_C43.npy', 'PROJ14102/features/P14102_R12_C45.npy', 'PROJ14102/features/P14102_R12_C46.npy', 'PROJ14102/features/P14102_R12_C48.npy', 'PROJ14102/features/P14102_R12_C6.npy', 'PROJ14102/features/P14102_R12_C7.npy', 'PROJ14102/features/P14102_R12_C8.npy', 'PROJ14102/features/P14102_R12_C9.npy', 'PROJ14102/features/P14102_R13_C0.npy', 'PROJ14102/features/P14102_R13_C1.npy', 'PROJ14102/features/P14102_R13_C10.npy', 'PROJ14102/features/P14102_R13_C11.npy', 'PROJ14102/features/P14102_R13_C12.npy', 'PROJ14102/features/P14102_R13_C13.npy', 'PROJ14102/features/P14102_R13_C14.npy', 'PROJ14102/features/P14102_R13_C15.npy', 'PROJ14102/features/P14102_R13_C16.npy', 'PROJ14102/features/P14102_R13_C17.npy', 'PROJ14102/features/P14102_R13_C18.npy', 'PROJ14102/features/P14102_R13_C19.npy', 'PROJ14102/features/P14102_R13_C20.npy', 'PROJ14102/features/P14102_R13_C24.npy', 'PROJ14102/features/P14102_R13_C25.npy', 'PROJ14102/features/P14102_R13_C26.npy', 'PROJ14102/features/P14102_R13_C27.npy', 'PROJ14102/features/P14102_R13_C28.npy', 'PROJ14102/features/P14102_R13_C29.npy', 'PROJ14102/features/P14102_R13_C3.npy', 'PROJ14102/features/P14102_R13_C30.npy', 'PROJ14102/features/P14102_R13_C31.npy', 'PROJ14102/features/P14102_R13_C33.npy', 'PROJ14102/features/P14102_R13_C34.npy', 'PROJ14102/features/P14102_R13_C35.npy', 'PROJ14102/features/P14102_R13_C37.npy', 'PROJ14102/features/P14102_R13_C38.npy', 'PROJ14102/features/P14102_R13_C39.npy', 'PROJ14102/features/P14102_R13_C4.npy', 'PROJ14102/features/P14102_R13_C40.npy', 'PROJ14102/features/P14102_R13_C41.npy', 'PROJ14102/features/P14102_R13_C42.npy', 'PROJ14102/features/P14102_R13_C45.npy', 'PROJ14102/features/P14102_R13_C48.npy', 'PROJ14102/features/P14102_R13_C5.npy', 'PROJ14102/features/P14102_R13_C6.npy', 'PROJ14102/features/P14102_R13_C7.npy', 'PROJ14102/features/P14102_R13_C8.npy', 'PROJ14102/features/P14102_R13_C9.npy', 'PROJ14102/features/P14102_R14_C0.npy', 'PROJ14102/features/P14102_R14_C1.npy', 'PROJ14102/features/P14102_R14_C10.npy', 'PROJ14102/features/P14102_R14_C11.npy', 'PROJ14102/features/P14102_R14_C12.npy', 'PROJ14102/features/P14102_R14_C13.npy', 'PROJ14102/features/P14102_R14_C14.npy', 'PROJ14102/features/P14102_R14_C15.npy', 'PROJ14102/features/P14102_R14_C16.npy', 'PROJ14102/features/P14102_R14_C17.npy', 'PROJ14102/features/P14102_R14_C18.npy', 'PROJ14102/features/P14102_R14_C19.npy', 'PROJ14102/features/P14102_R14_C2.npy', 'PROJ14102/features/P14102_R14_C20.npy', 'PROJ14102/features/P14102_R14_C23.npy', 'PROJ14102/features/P14102_R14_C24.npy', 'PROJ14102/features/P14102_R14_C25.npy', 'PROJ14102/features/P14102_R14_C26.npy', 'PROJ14102/features/P14102_R14_C27.npy', 'PROJ14102/features/P14102_R14_C28.npy', 'PROJ14102/features/P14102_R14_C3.npy', 'PROJ14102/features/P14102_R14_C31.npy', 'PROJ14102/features/P14102_R14_C33.npy', 'PROJ14102/features/P14102_R14_C36.npy', 'PROJ14102/features/P14102_R14_C37.npy', 'PROJ14102/features/P14102_R14_C38.npy', 'PROJ14102/features/P14102_R14_C4.npy', 'PROJ14102/features/P14102_R14_C40.npy', 'PROJ14102/features/P14102_R14_C43.npy', 'PROJ14102/features/P14102_R14_C44.npy', 'PROJ14102/features/P14102_R14_C49.npy', 'PROJ14102/features/P14102_R14_C5.npy', 'PROJ14102/features/P14102_R14_C6.npy', 'PROJ14102/features/P14102_R14_C7.npy', 'PROJ14102/features/P14102_R14_C8.npy', 'PROJ14102/features/P14102_R14_C9.npy', 'PROJ14102/features/P14102_R15_C0.npy', 'PROJ14102/features/P14102_R15_C1.npy', 'PROJ14102/features/P14102_R15_C10.npy', 'PROJ14102/features/P14102_R15_C11.npy', 'PROJ14102/features/P14102_R15_C12.npy', 'PROJ14102/features/P14102_R15_C13.npy', 'PROJ14102/features/P14102_R15_C14.npy', 'PROJ14102/features/P14102_R15_C15.npy', 'PROJ14102/features/P14102_R15_C16.npy', 'PROJ14102/features/P14102_R15_C17.npy', 'PROJ14102/features/P14102_R15_C18.npy', 'PROJ14102/features/P14102_R15_C19.npy', 'PROJ14102/features/P14102_R15_C2.npy', 'PROJ14102/features/P14102_R15_C20.npy', 'PROJ14102/features/P14102_R15_C22.npy', 'PROJ14102/features/P14102_R15_C23.npy', 'PROJ14102/features/P14102_R15_C24.npy', 'PROJ14102/features/P14102_R15_C26.npy', 'PROJ14102/features/P14102_R15_C3.npy', 'PROJ14102/features/P14102_R15_C31.npy', 'PROJ14102/features/P14102_R15_C33.npy', 'PROJ14102/features/P14102_R15_C34.npy', 'PROJ14102/features/P14102_R15_C35.npy', 'PROJ14102/features/P14102_R15_C39.npy', 'PROJ14102/features/P14102_R15_C4.npy', 'PROJ14102/features/P14102_R15_C40.npy', 'PROJ14102/features/P14102_R15_C41.npy', 'PROJ14102/features/P14102_R15_C45.npy', 'PROJ14102/features/P14102_R15_C47.npy', 'PROJ14102/features/P14102_R15_C49.npy', 'PROJ14102/features/P14102_R15_C5.npy', 'PROJ14102/features/P14102_R15_C6.npy', 'PROJ14102/features/P14102_R15_C7.npy', 'PROJ14102/features/P14102_R15_C8.npy', 'PROJ14102/features/P14102_R15_C9.npy', 'PROJ14102/features/P14102_R16_C0.npy', 'PROJ14102/features/P14102_R16_C1.npy', 'PROJ14102/features/P14102_R16_C10.npy', 'PROJ14102/features/P14102_R16_C11.npy', 'PROJ14102/features/P14102_R16_C12.npy', 'PROJ14102/features/P14102_R16_C13.npy', 'PROJ14102/features/P14102_R16_C14.npy', 'PROJ14102/features/P14102_R16_C15.npy', 'PROJ14102/features/P14102_R16_C16.npy', 'PROJ14102/features/P14102_R16_C17.npy', 'PROJ14102/features/P14102_R16_C18.npy', 'PROJ14102/features/P14102_R16_C19.npy', 'PROJ14102/features/P14102_R16_C2.npy', 'PROJ14102/features/P14102_R16_C20.npy', 'PROJ14102/features/P14102_R16_C22.npy', 'PROJ14102/features/P14102_R16_C23.npy', 'PROJ14102/features/P14102_R16_C24.npy', 'PROJ14102/features/P14102_R16_C27.npy', 'PROJ14102/features/P14102_R16_C28.npy', 'PROJ14102/features/P14102_R16_C3.npy', 'PROJ14102/features/P14102_R16_C32.npy', 'PROJ14102/features/P14102_R16_C34.npy', 'PROJ14102/features/P14102_R16_C38.npy', 'PROJ14102/features/P14102_R16_C4.npy', 'PROJ14102/features/P14102_R16_C42.npy', 'PROJ14102/features/P14102_R16_C46.npy', 'PROJ14102/features/P14102_R16_C48.npy', 'PROJ14102/features/P14102_R16_C5.npy', 'PROJ14102/features/P14102_R16_C6.npy', 'PROJ14102/features/P14102_R16_C7.npy', 'PROJ14102/features/P14102_R16_C8.npy', 'PROJ14102/features/P14102_R16_C9.npy', 'PROJ14102/features/P14102_R17_C0.npy', 'PROJ14102/features/P14102_R17_C1.npy', 'PROJ14102/features/P14102_R17_C10.npy', 'PROJ14102/features/P14102_R17_C11.npy', 'PROJ14102/features/P14102_R17_C13.npy', 'PROJ14102/features/P14102_R17_C14.npy', 'PROJ14102/features/P14102_R17_C15.npy', 'PROJ14102/features/P14102_R17_C16.npy', 'PROJ14102/features/P14102_R17_C17.npy', 'PROJ14102/features/P14102_R17_C18.npy', 'PROJ14102/features/P14102_R17_C19.npy', 'PROJ14102/features/P14102_R17_C2.npy', 'PROJ14102/features/P14102_R17_C21.npy', 'PROJ14102/features/P14102_R17_C23.npy', 'PROJ14102/features/P14102_R17_C25.npy', 'PROJ14102/features/P14102_R17_C26.npy', 'PROJ14102/features/P14102_R17_C3.npy', 'PROJ14102/features/P14102_R17_C31.npy', 'PROJ14102/features/P14102_R17_C34.npy', 'PROJ14102/features/P14102_R17_C35.npy', 'PROJ14102/features/P14102_R17_C36.npy', 'PROJ14102/features/P14102_R17_C38.npy', 'PROJ14102/features/P14102_R17_C39.npy', 'PROJ14102/features/P14102_R17_C4.npy', 'PROJ14102/features/P14102_R17_C41.npy', 'PROJ14102/features/P14102_R17_C42.npy', 'PROJ14102/features/P14102_R17_C43.npy', 'PROJ14102/features/P14102_R17_C44.npy', 'PROJ14102/features/P14102_R17_C46.npy', 'PROJ14102/features/P14102_R17_C47.npy', 'PROJ14102/features/P14102_R17_C49.npy', 'PROJ14102/features/P14102_R17_C5.npy', 'PROJ14102/features/P14102_R17_C6.npy', 'PROJ14102/features/P14102_R17_C7.npy', 'PROJ14102/features/P14102_R17_C8.npy', 'PROJ14102/features/P14102_R17_C9.npy', 'PROJ14102/features/P14102_R18_C0.npy', 'PROJ14102/features/P14102_R18_C1.npy', 'PROJ14102/features/P14102_R18_C10.npy', 'PROJ14102/features/P14102_R18_C11.npy', 'PROJ14102/features/P14102_R18_C12.npy', 'PROJ14102/features/P14102_R18_C13.npy', 'PROJ14102/features/P14102_R18_C14.npy', 'PROJ14102/features/P14102_R18_C15.npy', 'PROJ14102/features/P14102_R18_C16.npy', 'PROJ14102/features/P14102_R18_C17.npy', 'PROJ14102/features/P14102_R18_C18.npy', 'PROJ14102/features/P14102_R18_C19.npy', 'PROJ14102/features/P14102_R18_C2.npy', 'PROJ14102/features/P14102_R18_C21.npy', 'PROJ14102/features/P14102_R18_C22.npy', 'PROJ14102/features/P14102_R18_C23.npy', 'PROJ14102/features/P14102_R18_C24.npy', 'PROJ14102/features/P14102_R18_C25.npy', 'PROJ14102/features/P14102_R18_C26.npy', 'PROJ14102/features/P14102_R18_C29.npy', 'PROJ14102/features/P14102_R18_C3.npy', 'PROJ14102/features/P14102_R18_C33.npy', 'PROJ14102/features/P14102_R18_C34.npy', 'PROJ14102/features/P14102_R18_C36.npy', 'PROJ14102/features/P14102_R18_C37.npy', 'PROJ14102/features/P14102_R18_C38.npy', 'PROJ14102/features/P14102_R18_C4.npy', 'PROJ14102/features/P14102_R18_C41.npy', 'PROJ14102/features/P14102_R18_C42.npy', 'PROJ14102/features/P14102_R18_C45.npy', 'PROJ14102/features/P14102_R18_C47.npy', 'PROJ14102/features/P14102_R18_C49.npy', 'PROJ14102/features/P14102_R18_C5.npy', 'PROJ14102/features/P14102_R18_C6.npy', 'PROJ14102/features/P14102_R18_C7.npy', 'PROJ14102/features/P14102_R18_C8.npy', 'PROJ14102/features/P14102_R18_C9.npy', 'PROJ14102/features/P14102_R19_C0.npy', 'PROJ14102/features/P14102_R19_C1.npy', 'PROJ14102/features/P14102_R19_C10.npy', 'PROJ14102/features/P14102_R19_C11.npy', 'PROJ14102/features/P14102_R19_C12.npy', 'PROJ14102/features/P14102_R19_C13.npy', 'PROJ14102/features/P14102_R19_C14.npy', 'PROJ14102/features/P14102_R19_C15.npy', 'PROJ14102/features/P14102_R19_C16.npy', 'PROJ14102/features/P14102_R19_C17.npy', 'PROJ14102/features/P14102_R19_C18.npy', 'PROJ14102/features/P14102_R19_C19.npy', 'PROJ14102/features/P14102_R19_C23.npy', 'PROJ14102/features/P14102_R19_C24.npy', 'PROJ14102/features/P14102_R19_C25.npy', 'PROJ14102/features/P14102_R19_C26.npy', 'PROJ14102/features/P14102_R19_C3.npy', 'PROJ14102/features/P14102_R19_C30.npy', 'PROJ14102/features/P14102_R19_C31.npy', 'PROJ14102/features/P14102_R19_C32.npy', 'PROJ14102/features/P14102_R19_C34.npy', 'PROJ14102/features/P14102_R19_C37.npy', 'PROJ14102/features/P14102_R19_C38.npy', 'PROJ14102/features/P14102_R19_C4.npy', 'PROJ14102/features/P14102_R19_C41.npy', 'PROJ14102/features/P14102_R19_C42.npy', 'PROJ14102/features/P14102_R19_C44.npy', 'PROJ14102/features/P14102_R19_C45.npy', 'PROJ14102/features/P14102_R19_C47.npy', 'PROJ14102/features/P14102_R19_C48.npy', 'PROJ14102/features/P14102_R19_C49.npy', 'PROJ14102/features/P14102_R19_C5.npy', 'PROJ14102/features/P14102_R19_C6.npy', 'PROJ14102/features/P14102_R19_C7.npy', 'PROJ14102/features/P14102_R19_C8.npy', 'PROJ14102/features/P14102_R19_C9.npy']\n"
     ]
    }
   ],
   "source": [
    "project_title = 'PROJ14102'\n",
    "feature_files = []\n",
    "for i in range(runs):\n",
    "    feature_files += sorted(glob.glob(project_title + '/features/' + \"P*R%d_*npy\"%i))\n",
    "features = [ np.load(filename) for filename in feature_files]\n",
    "print(feature_files)"
   ]
  },
  {
   "cell_type": "code",
   "execution_count": 23,
   "metadata": {},
   "outputs": [
    {
     "name": "stdout",
     "output_type": "stream",
     "text": [
      "PROJ14106\n"
     ]
    }
   ],
   "source": [
    "print(project_title)"
   ]
  },
  {
   "cell_type": "code",
   "execution_count": null,
   "metadata": {},
   "outputs": [],
   "source": []
  }
 ],
 "metadata": {
  "kernelspec": {
   "display_name": "Python 3",
   "language": "python",
   "name": "python3"
  }
 },
 "nbformat": 4,
 "nbformat_minor": 2
}
